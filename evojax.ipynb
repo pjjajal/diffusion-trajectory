{
 "cells": [
  {
   "cell_type": "code",
   "execution_count": 1,
   "id": "a13eb96d",
   "metadata": {},
   "outputs": [
    {
     "name": "stderr",
     "output_type": "stream",
     "text": [
      "/home/jajal/mambaforge/envs/diff-traf/lib/python3.12/site-packages/timm/models/layers/__init__.py:48: FutureWarning: Importing from timm.models.layers is deprecated, please import via timm.layers\n",
      "  warnings.warn(f\"Importing from {__name__} is deprecated, please import via timm.layers\", FutureWarning)\n"
     ]
    }
   ],
   "source": [
    "import jax\n",
    "import jax.numpy as jnp\n",
    "import matplotlib.pyplot as plt\n",
    "import numpy as np\n",
    "import optax\n",
    "import torch\n",
    "import treescope\n",
    "from diffusers import StableDiffusionPipeline\n",
    "\n",
    "from fitness import brightness\n",
    "from noise_injection_pipelines import SDSamplingPipeline\n",
    "from vmf.vmf_nes import vMF_NES\n",
    "import optax\n",
    "\n",
    "treescope.basic_interactive_setup()"
   ]
  },
  {
   "cell_type": "code",
   "execution_count": 2,
   "id": "497107a6",
   "metadata": {},
   "outputs": [
    {
     "data": {
      "application/vnd.jupyter.widget-view+json": {
       "model_id": "4aedc42314d248fc94bd433e271668a0",
       "version_major": 2,
       "version_minor": 0
      },
      "text/plain": [
       "Loading pipeline components...:   0%|          | 0/6 [00:00<?, ?it/s]"
      ]
     },
     "metadata": {},
     "output_type": "display_data"
    },
    {
     "name": "stderr",
     "output_type": "stream",
     "text": [
      "You have disabled the safety checker for <class 'diffusers.pipelines.stable_diffusion.pipeline_stable_diffusion.StableDiffusionPipeline'> by passing `safety_checker=None`. Ensure that you abide to the conditions of the Stable Diffusion license and do not expose unfiltered results in services or applications open to the public. Both the diffusers team and Hugging Face strongly recommend to keep the safety filter enabled in all public facing circumstances, disabling it only for use-cases that involve analyzing network behavior or auditing its results. For more information, please have a look at https://github.com/huggingface/diffusers/pull/254 .\n"
     ]
    }
   ],
   "source": [
    "pipeline = StableDiffusionPipeline.from_pretrained(\n",
    "    \"stable-diffusion-v1-5/stable-diffusion-v1-5\",\n",
    "    device_map=None,\n",
    "    torch_dtype=torch.float16,\n",
    "    use_safetensors=True,\n",
    "    safety_checker=None,\n",
    ").to(\"cuda\")\n",
    "pipeline.enable_model_cpu_offload()"
   ]
  },
  {
   "cell_type": "code",
   "execution_count": 3,
   "id": "638fe4e2",
   "metadata": {},
   "outputs": [],
   "source": [
    "sample_fn = SDSamplingPipeline(\n",
    "    pipeline=pipeline,\n",
    "    prompt=\"\",\n",
    "    num_inference_steps=50,\n",
    "    classifier_free_guidance=True,\n",
    "    guidance_scale=7.5,\n",
    "    generator=torch.Generator().manual_seed(0),\n",
    "    add_noise=False,\n",
    "    height=512,\n",
    "    width=512,\n",
    ")"
   ]
  },
  {
   "cell_type": "code",
   "execution_count": 4,
   "id": "0083e358",
   "metadata": {},
   "outputs": [],
   "source": [
    "sample_fn.regenerate_latents()\n",
    "sample_fn.rembed_text(\"An orange cat sitting on a couch\")"
   ]
  },
  {
   "cell_type": "code",
   "execution_count": 5,
   "id": "340f9bec",
   "metadata": {},
   "outputs": [
    {
     "name": "stderr",
     "output_type": "stream",
     "text": [
      "INFO:2025-05-18 15:40:17,027:jax._src.xla_bridge:867: Unable to initialize backend 'tpu': INTERNAL: Failed to open libtpu.so: libtpu.so: cannot open shared object file: No such file or directory\n"
     ]
    }
   ],
   "source": [
    "popsize = 16\n",
    "es = vMF_NES(\n",
    "    population_size=popsize, \n",
    "    solution=jnp.zeros((4, 64 ,64)),\n",
    "    mean_optimizer=optax.sgd(10.0),\n",
    "    kappa_optimizer=optax.sgd(10.0),\n",
    ")"
   ]
  },
  {
   "cell_type": "code",
   "execution_count": 6,
   "id": "62c95c5e",
   "metadata": {},
   "outputs": [],
   "source": [
    "# Initialize state\n",
    "key = jax.random.key(0)\n",
    "\n",
    "key, subkey, init_key = jax.random.split(key, 3)\n",
    "params = es.default_params\n",
    "params = params.replace(kappa_init=50.)\n",
    "\n",
    "\n",
    "mean = jax.random.normal(init_key, (4, 64, 64))\n",
    "state = es.init(subkey, mean, params)"
   ]
  },
  {
   "cell_type": "code",
   "execution_count": null,
   "id": "ebe8ae05",
   "metadata": {},
   "outputs": [
    {
     "name": "stdout",
     "output_type": "stream",
     "text": [
      "GENERATING SAMPLES\n",
      "GOT SAMPLES\n"
     ]
    }
   ],
   "source": [
    "best_sols = []\n",
    "for i in range(10):\n",
    "    old_mean, old_kappa = state.mean, state.kappa\n",
    "    key, key_ask, key_norm, key_tell = jax.random.split(key, 4)\n",
    "    population, state = es.ask(key_ask, state, params)\n",
    "\n",
    "    popsize = population.shape[0]\n",
    "    norms = jnp.sqrt(\n",
    "        jax.random.chisquare(key_norm, es.num_dims, (popsize,))\n",
    "    )\n",
    "    population = population * norms[:, None, None, None]\n",
    "\n",
    "    torch_population = torch.from_dlpack(population)\n",
    "\n",
    "    imgs = []\n",
    "    for latents in torch_population.split(1):\n",
    "        img = sample_fn(noise_injection=latents)\n",
    "        imgs.extend(img)\n",
    "\n",
    "    fitnesses = [brightness(img) for img in imgs]\n",
    "    idx_max = np.argmax(fitnesses)\n",
    "    best_img = imgs[idx_max]\n",
    "\n",
    "    fitnesses = jnp.array(fitnesses).squeeze()\n",
    "    # Tell the ES about the fitnesses\n",
    "    state, metrics = es.tell(key_tell, population, fitnesses, state, params)\n",
    "    # Get the best solution\n",
    "    best_sol = state.best_solution\n",
    "    best_sols.append((best_img, state.best_fitness))\n",
    "    display(best_img)\n",
    "    print(f\"Iteration {i}\")\n",
    "    print(\n",
    "        f\"Best fitness: {state.best_fitness}\",\n",
    "        f\"Mean fitness: {jnp.mean(fitnesses)}\",\n",
    "        f\"Max Fitness: {jnp.max(fitnesses)}\",\n",
    "        f\"Min Fitness: {jnp.min(fitnesses)}\",\n",
    "        f\"KAppa: {state.kappa}\",\n",
    "        f\"Delta Mean: {jnp.linalg.norm(old_mean - state.mean)}\",\n",
    "        f\"Delta Kappa: {jnp.linalg.norm(old_kappa - state.kappa)}\",\n",
    "    )"
   ]
  },
  {
   "cell_type": "code",
   "execution_count": null,
   "id": "d4a34573",
   "metadata": {},
   "outputs": [],
   "source": [
    "state"
   ]
  },
  {
   "cell_type": "code",
   "execution_count": null,
   "id": "957972b2",
   "metadata": {},
   "outputs": [],
   "source": []
  }
 ],
 "metadata": {
  "kernelspec": {
   "display_name": "diff-traf",
   "language": "python",
   "name": "python3"
  },
  "language_info": {
   "codemirror_mode": {
    "name": "ipython",
    "version": 3
   },
   "file_extension": ".py",
   "mimetype": "text/x-python",
   "name": "python",
   "nbconvert_exporter": "python",
   "pygments_lexer": "ipython3",
   "version": "3.12.8"
  }
 },
 "nbformat": 4,
 "nbformat_minor": 5
}
