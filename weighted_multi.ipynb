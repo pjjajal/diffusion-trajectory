{
 "cells": [
  {
   "cell_type": "code",
   "execution_count": null,
   "id": "b70a3411-7647-46b8-85b4-9f1f2ca9d06b",
   "metadata": {},
   "outputs": [],
   "source": [
    "import torch\n",
    "import numpy as np\n",
    "from einops import einsum\n",
    "\n",
    "from diffusers import DiffusionPipeline, DPMSolverMultistepScheduler\n",
    "from diffusers.utils import pt_to_pil\n",
    "from evotorch import Problem\n",
    "from evotorch.decorators import vectorized\n",
    "from evotorch.algorithms import CMAES, SNES, CEM\n",
    "from evotorch.logging import StdOutLogger, PandasLogger\n",
    "from diffusion_pt import diffusion_sample, DiffusionSample\n",
    "from fitness_fn import brightness, clip_fitness_fn, compose_fitness_fns, relative_luminance, Novelty, pickscore_fitness_fn, aesthetic_fitness_fn\n",
    "from vectorized_problem import VectorizedProblem\n",
    "import matplotlib.pyplot as plt\n",
    "\n",
    "from noise_injection import rotational_transform, rotational_transform_inject_multiple, multi_axis_rotational_transform, svd_rot_transform, multi_axis_svd_rot_transform"
   ]
  },
  {
   "cell_type": "code",
   "execution_count": null,
   "id": "72d681e4-b6d4-4c7b-b08d-dac2d43aa7bc",
   "metadata": {},
   "outputs": [],
   "source": [
    "device = \"cuda\" if torch.cuda.is_available() else \"cpu\"\n",
    "CACHE_DIR = \"/scratch/gilbreth/pjajal/hf_datasets\"\n",
    "\n",
    "model_id = \"stable-diffusion-v1-5/stable-diffusion-v1-5\"\n",
    "# model_id = \"stabilityai/stable-diffusion-2-base\"\n",
    "pipeline = DiffusionPipeline.from_pretrained(\n",
    "    model_id,\n",
    "    # scheduler=scheduler,\n",
    "    use_safetensors=True,\n",
    "    torch_dtype=torch.float16,\n",
    "    cache_dir=CACHE_DIR,\n",
    "\n",
    ").to(device)"
   ]
  },
  {
   "cell_type": "code",
   "execution_count": null,
   "id": "ac903363-e0b0-4c68-9672-ae281eedfdda",
   "metadata": {},
   "outputs": [],
   "source": [
    "problem_split = 2\n",
    "num_inference_steps = 15\n",
    "noise_scale = 1.0\n",
    "sample_fn = DiffusionSample(pipeline, [\"a picture of a dog\"], num_inference_steps, torch.Generator(device=device).manual_seed(98), guidance_scale=7.5, batch_size=1, inject_multiple=True, inject_multiple_noise_scale=noise_scale)\n",
    "centers, num_inference_steps, dtype = sample_fn.noise_injection_args()\n",
    "\n",
    "clip_fit = clip_fitness_fn(\"openai/clip-vit-large-patch14\", [\"drawing of a cat\"], cache_dir=CACHE_DIR, dtype=dtype)\n",
    "# novelty = Novelty(\"dino_small\", top_k=20, device=device, cache_dir=CACHE_DIR)\n",
    "# pick = pickscore_fitness_fn([\"a picture of an orange dog\"], cache_dir=CACHE_DIR, device=device)\n",
    "# pick = lambda x : 0\n",
    "# aes = aesthetic_fitness_fn(CACHE_DIR, device=device, dtype=dtype)\n",
    "fit = compose_fitness_fns([clip_fit], [1])"
   ]
  },
  {
   "cell_type": "code",
   "execution_count": null,
   "id": "b1c04097-1a0b-44ce-a111-b73b94af83f7",
   "metadata": {},
   "outputs": [],
   "source": [
    "mean_scale = 0.01\n",
    "initial_bounds=(-1,1)\n",
    "injection_steps = num_inference_steps\n",
    "noise_scale = [1.0, 0.5, 0.25, 0.1]\n",
    "noise_scale = (np.linspace(1, 0, num=num_inference_steps) ** 8).tolist()\n",
    "sample_fn.inject_multiple_noise_scale = noise_scale\n",
    "fitness_fn, inner_fn, centroid, solution_length = rotational_transform_inject_multiple(sample_fn, fit, sample_fn.latents.shape, device, injection_steps=injection_steps, center=centers, mean_scale=mean_scale, dtype=dtype)\n",
    "\n",
    "problem = VectorizedProblem(\"max\", fitness_fn, solution_length=solution_length, initial_bounds=initial_bounds, dtype=np.dtype('float32'), splits=problem_split, initialization=None)\n",
    "searcher = CMAES(problem, stdev_init=1, separable=True, csa_squared=True)\n",
    "# searcher = SNES(problem, stdev_init=10)\n",
    "logger = StdOutLogger(searcher)\n",
    "pandas_logger = PandasLogger(searcher)\n",
    "print(f\"pop. size: {searcher.popsize}\")"
   ]
  },
  {
   "cell_type": "code",
   "execution_count": null,
   "id": "14c5e7cf-47af-492f-ab60-78bc9d4ee45a",
   "metadata": {},
   "outputs": [],
   "source": [
    "a = sample_fn()\n",
    "plt.imshow(pt_to_pil(a)[0])\n",
    "plt.show()\n",
    "with torch.no_grad():\n",
    "    for step in range(200):\n",
    "      searcher.step()\n",
    "      best_idx = searcher.population.argbest()\n",
    "      x = searcher.population[best_idx].values\n",
    "\n",
    "      a = inner_fn(x)\n",
    "      plt.imshow(pt_to_pil(a)[0])\n",
    "      plt.show()"
   ]
  },
  {
   "cell_type": "code",
   "execution_count": null,
   "id": "8148cfb2-bcdc-4463-a240-29fb591b502b",
   "metadata": {},
   "outputs": [],
   "source": [
    "mean_scale = 0.01\n",
    "initial_bounds=(-1,1)\n",
    "fitness_fn, inner_fn, centroid, solution_length = multi_axis_rotational_transform(sample_fn, fit, sample_fn.latents.shape, device, center=centers, mean_scale=mean_scale, dtype=dtype)\n",
    "\n",
    "problem = VectorizedProblem(\"max\", fitness_fn, solution_length=solution_length, initial_bounds=initial_bounds, dtype=np.dtype('float32'), splits=problem_split, initialization=None)\n",
    "searcher = CMAES(problem, stdev_init=1, separable=True, csa_squared=True)\n",
    "# searcher = SNES(problem, stdev_init=10)\n",
    "logger = StdOutLogger(searcher)\n",
    "pandas_logger = PandasLogger(searcher)\n",
    "print(f\"pop. size: {searcher.popsize}\")"
   ]
  },
  {
   "cell_type": "code",
   "execution_count": null,
   "id": "daf7f5e3-33ec-4f5c-a1bb-38fdc05251e9",
   "metadata": {},
   "outputs": [],
   "source": [
    "a = sample_fn()\n",
    "plt.imshow(pt_to_pil(a)[0])\n",
    "plt.show()\n",
    "with torch.no_grad():\n",
    "    for step in range(200):\n",
    "      searcher.step()\n",
    "      best_idx = searcher.population.argbest()\n",
    "      x = searcher.population[best_idx].values\n",
    "\n",
    "      a = inner_fn(x)\n",
    "      plt.imshow(pt_to_pil(a)[0])\n",
    "      plt.show()"
   ]
  },
  {
   "cell_type": "code",
   "execution_count": null,
   "id": "311b3e97-cd97-48a5-abac-d8c3b0c13c88",
   "metadata": {},
   "outputs": [],
   "source": [
    "mean_scale = 0.01\n",
    "initial_bounds=(-1,1)\n",
    "fitness_fn, inner_fn, centroid, solution_length = svd_rot_transform(sample_fn, fit, sample_fn.latents.shape, device, center=centers, mean_scale=mean_scale, bound=0.01, dtype=dtype)\n",
    "\n",
    "problem = VectorizedProblem(\"max\", fitness_fn, solution_length=solution_length, initial_bounds=initial_bounds, dtype=np.dtype('float32'), splits=problem_split, initialization=None)\n",
    "searcher = CMAES(problem, stdev_init=5, separable=True, csa_squared=True)\n",
    "# searcher = SNES(problem, stdev_init=10)\n",
    "logger = StdOutLogger(searcher)\n",
    "pandas_logger = PandasLogger(searcher)\n",
    "print(f\"pop. size: {searcher.popsize}\")"
   ]
  },
  {
   "cell_type": "code",
   "execution_count": null,
   "id": "39115801-9faf-4263-8732-0cdd6859c580",
   "metadata": {},
   "outputs": [],
   "source": [
    "a = sample_fn()\n",
    "plt.imshow(pt_to_pil(a)[0])\n",
    "plt.show()\n",
    "for step in range(200):\n",
    "  searcher.step()\n",
    "  best_idx = searcher.population.argbest()\n",
    "  x = searcher.population[best_idx].values\n",
    "    \n",
    "  a = inner_fn(x)\n",
    "  plt.imshow(pt_to_pil(a)[0])\n",
    "  plt.show()"
   ]
  },
  {
   "cell_type": "code",
   "execution_count": null,
   "id": "3a401d0d-1315-4501-9fc4-c4263758c299",
   "metadata": {},
   "outputs": [],
   "source": [
    "mean_scale = 0.0001\n",
    "initial_bounds=(-1,1)\n",
    "fitness_fn, inner_fn, centroid, solution_length = multi_axis_svd_rot_transform(sample_fn, fit, sample_fn.latents.shape, device, center=centers, mean_scale=mean_scale, bound=0.001, dtype=dtype)\n",
    "\n",
    "problem = VectorizedProblem(\"max\", fitness_fn, solution_length=solution_length, initial_bounds=initial_bounds, dtype=np.dtype('float32'), splits=problem_split, initialization=None)\n",
    "searcher = CMAES(problem, stdev_init=1, separable=True, csa_squared=True)\n",
    "# searcher = SNES(problem, stdev_init=10)\n",
    "logger = StdOutLogger(searcher)\n",
    "pandas_logger = PandasLogger(searcher)\n",
    "print(f\"pop. size: {searcher.popsize}\")"
   ]
  },
  {
   "cell_type": "code",
   "execution_count": null,
   "id": "533393d3-52cf-4508-af18-0f73abd29d33",
   "metadata": {},
   "outputs": [],
   "source": [
    "a = sample_fn()\n",
    "plt.imshow(pt_to_pil(a)[0])\n",
    "plt.show()\n",
    "with torch.no_grad():\n",
    "    for step in range(200):\n",
    "      searcher.step()\n",
    "      best_idx = searcher.population.argbest()\n",
    "      x = searcher.population[best_idx].values\n",
    "\n",
    "      a = inner_fn(x)\n",
    "      plt.imshow(pt_to_pil(a)[0])\n",
    "      plt.show()"
   ]
  },
  {
   "cell_type": "code",
   "execution_count": null,
   "id": "e43ac8df-a2d8-4691-9324-a8785ed276f4",
   "metadata": {},
   "outputs": [],
   "source": []
  }
 ],
 "metadata": {
  "kernelspec": {
   "display_name": "Python 3.11 (Anaconda 2024.02)",
   "language": "python",
   "name": "anaconda-2024.02-py311"
  },
  "language_info": {
   "codemirror_mode": {
    "name": "ipython",
    "version": 3
   },
   "file_extension": ".py",
   "mimetype": "text/x-python",
   "name": "python",
   "nbconvert_exporter": "python",
   "pygments_lexer": "ipython3",
   "version": "3.11.7"
  }
 },
 "nbformat": 4,
 "nbformat_minor": 5
}
