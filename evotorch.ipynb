{
 "cells": [
  {
   "cell_type": "code",
   "execution_count": null,
   "id": "1dc0a9fd-cd20-4b0c-bbf0-28c048e35b15",
   "metadata": {},
   "outputs": [],
   "source": [
    "import torch\n",
    "import treescope\n",
    "import numpy as np\n",
    "\n",
    "from diffusers import DiffusionPipeline, DPMSolverMultistepScheduler\n",
    "from diffusers.utils import pt_to_pil\n",
    "from evotorch import Problem\n",
    "from evotorch.decorators import vectorized\n",
    "from evotorch.algorithms import CMAES, SNES, CEM\n",
    "from evotorch.logging import StdOutLogger, PandasLogger\n",
    "from diffusion_pt import diffusion_sample\n",
    "from fitness_fn import brightness, clip_fitness_fn, compose_fitness_fns\n",
    "from vectorized_problem import VectorizedProblem\n",
    "import matplotlib.pyplot as plt\n",
    "\n",
    "treescope.register_as_default()\n",
    "treescope.basic_interactive_setup()"
   ]
  },
  {
   "cell_type": "code",
   "execution_count": null,
   "id": "b5e91847-1052-4625-8de2-1dc161edf318",
   "metadata": {},
   "outputs": [],
   "source": [
    "device = \"cuda\" if torch.cuda.is_available() else \"cpu\"\n",
    "\n",
    "model_id = \"stable-diffusion-v1-5/stable-diffusion-v1-5\"\n",
    "model_id = \"stabilityai/stable-diffusion-2-base\"\n",
    "pipeline = DiffusionPipeline.from_pretrained(\n",
    "    model_id,\n",
    "    # scheduler=scheduler,\n",
    "    use_safetensors=True,\n",
    "    cache_dir=\"/scratch/gilbreth/pjajal/hf_datasets\"\n",
    "\n",
    ").to(device)"
   ]
  },
  {
   "cell_type": "code",
   "execution_count": 3,
   "id": "bb0a5a29-11af-4c40-b863-505bdfa5e689",
   "metadata": {},
   "outputs": [],
   "source": [
    "problem_split = 2\n",
    "num_inference_steps = 15\n",
    "sample_fn, latents, num_inference_steps = diffusion_sample(pipeline, [\"a picture of a black dog\"], num_inference_steps, torch.Generator(device=device).manual_seed(23), guidance_scale=7.5, batch_size=1)\n",
    "clip_fit = clip_fitness_fn(\"openai/clip-vit-large-patch14\", [\"a picture of a cat\"], cache_dir=\"/scratch/gilbreth/pjajal/hf_datasets\")\n",
    "fit = compose_fitness_fns([brightness], [1])"
   ]
  },
  {
   "cell_type": "code",
   "execution_count": 12,
   "id": "b6a9d14b-bf07-4270-9b63-63bbdce8d451",
   "metadata": {},
   "outputs": [],
   "source": [
    "def fitness(sample_fn, latent_shape, fitness_fn, num_inference_steps, mean_scale=1e-2):\n",
    "  b, c, h, w = latent_shape\n",
    "  random_vec = 1e-6 * torch.randn(b, h, w, c).to(device, dtype=torch.float32)\n",
    "  def _fitness(x):\n",
    "    x = x.reshape(-1, c * 2)\n",
    "    mean, cov_diag = x.chunk(2, dim=-1)\n",
    "    mean = mean.to(device, dtype=torch.float32).unsqueeze(1).unsqueeze(2)\n",
    "    cov_diag = cov_diag.to(device, dtype=torch.float32).unsqueeze(1).unsqueeze(2)\n",
    "    x = mean_scale * mean + random_vec * cov_diag\n",
    "    x = x.permute(0, 3, 1, 2)\n",
    "    samples = sample_fn(x)\n",
    "    return torch.cat([fitness_fn(sample.unsqueeze(0)) for sample in samples], dim=0)\n",
    "  return _fitness, random_vec"
   ]
  },
  {
   "cell_type": "code",
   "execution_count": null,
   "id": "533b8afe-5157-4ee5-9537-19dca9150637",
   "metadata": {},
   "outputs": [],
   "source": [
    "mean_scale = 0.01\n",
    "fitness_fn, random_vec = fitness(sample_fn, latents.shape, fit, num_inference_steps, mean_scale=mean_scale)\n",
    "problem = VectorizedProblem(\"max\", fitness_fn, solution_length=latents.shape[1] * 2 , initial_bounds=(-2, 2), dtype=np.dtype('float32'), splits=problem_split)\n",
    "# searcher = CMAES(problem, stdev_init=2)\n",
    "searcher = SNES(problem, stdev_init=10)\n",
    "logger = StdOutLogger(searcher)\n",
    "pandas_logger = PandasLogger(searcher)"
   ]
  },
  {
   "cell_type": "code",
   "execution_count": null,
   "id": "c2990298-cebe-4aaf-a2e0-182e57207d96",
   "metadata": {},
   "outputs": [],
   "source": [
    "a = sample_fn(random_vec.permute(0, 3, 1, 2))\n",
    "plt.imshow(pt_to_pil(a)[0])\n",
    "plt.show()\n",
    "for step in range(25):\n",
    "  searcher.step()\n",
    "  best_idx = searcher.population.argbest()\n",
    "  x = searcher.population[best_idx].values\n",
    "\n",
    "  x = x.reshape(-1, 8)\n",
    "  mean, cov_diag = x.chunk(2, dim=-1)\n",
    "  mean = mean.to(device, dtype=torch.float32).unsqueeze(1).unsqueeze(2)\n",
    "  cov_diag = cov_diag.to(device, dtype=torch.float32).unsqueeze(1).unsqueeze(2)\n",
    "  x = mean_scale * mean + random_vec * cov_diag\n",
    "  # x = (mean_scale * mean + random_vec)\n",
    "  x = x.permute(0, 3, 1, 2)\n",
    "  a = sample_fn(x)\n",
    "  plt.imshow(pt_to_pil(a)[0])\n",
    "  plt.show()"
   ]
  },
  {
   "cell_type": "code",
   "execution_count": null,
   "id": "b4b8be1d-8302-4736-8e96-bf4d42fcf7db",
   "metadata": {},
   "outputs": [],
   "source": [
    "my_data_frame = pandas_logger.to_dataframe()\n",
    "my_data_frame[\"median_eval\"].plot()\n",
    "plt.show()"
   ]
  },
  {
   "cell_type": "code",
   "execution_count": 31,
   "id": "b2219e0c-558f-45dd-b1bb-94f8be43edd8",
   "metadata": {},
   "outputs": [],
   "source": [
    "def fitness(sample_fn, latent_shape, fitness_fn, num_inference_steps, mean_scale=1e-2):\n",
    "  b, c, h, w = latent_shape\n",
    "  def _fitness(x):\n",
    "    x = x.reshape(-1, *latent_shape[1:]).to(device) * mean_scale\n",
    "    samples = sample_fn(x)\n",
    "    return torch.cat([fitness_fn(sample.unsqueeze(0)) for sample in samples], dim=0)\n",
    "  return _fitness"
   ]
  },
  {
   "cell_type": "code",
   "execution_count": null,
   "id": "161e6d8b-273c-46af-95cc-72bfd6de7dd4",
   "metadata": {},
   "outputs": [],
   "source": [
    "mean_scale = 0.15\n",
    "fitness_fn = fitness(sample_fn, latents.shape, fit, num_inference_steps, mean_scale=mean_scale)\n",
    "problem = Problem(\"max\", fitness_fn, solution_length=np.prod(latents.shape) , initial_bounds=(-1.5, 1.5), dtype=np.dtype('float32'))\n",
    "problem = VectorizedProblem(\"max\", fitness_fn, solution_length=np.prod(latents.shape) , initial_bounds=(-2, 2), dtype=np.dtype('float32'), splits=4)\n",
    "# searcher = SNES(problem, stdev_init=0.25)\n",
    "searcher = CMAES(problem, stdev_init=1, separable=True)\n",
    "logger = StdOutLogger(searcher)\n",
    "pandas_logger = PandasLogger(searcher)"
   ]
  },
  {
   "cell_type": "code",
   "execution_count": null,
   "id": "37b70c28-a108-470d-9406-e5f5d97ff63b",
   "metadata": {},
   "outputs": [],
   "source": [
    "a = sample_fn()\n",
    "plt.imshow(pt_to_pil(a)[0])\n",
    "plt.show()\n",
    "for step in range(25):\n",
    "  searcher.step()\n",
    "  best_idx = searcher.population.argbest()\n",
    "  x = searcher.population[best_idx].values\n",
    "\n",
    "  a = sample_fn(x.reshape(-1, *latents.shape[1:]).to(device) * mean_scale)\n",
    "  plt.imshow(pt_to_pil(a)[0])\n",
    "  plt.show()"
   ]
  },
  {
   "cell_type": "code",
   "execution_count": null,
   "id": "2164d696-a895-4b79-b6d7-318622dec783",
   "metadata": {},
   "outputs": [],
   "source": []
  },
  {
   "cell_type": "code",
   "execution_count": null,
   "id": "4dbda6f6-ea52-418b-a4bb-4beb95f7afe6",
   "metadata": {},
   "outputs": [],
   "source": []
  }
 ],
 "metadata": {
  "kernelspec": {
   "display_name": "Python 3.11 (Anaconda 2024.02)",
   "language": "python",
   "name": "anaconda-2024.02-py311"
  },
  "language_info": {
   "codemirror_mode": {
    "name": "ipython",
    "version": 3
   },
   "file_extension": ".py",
   "mimetype": "text/x-python",
   "name": "python",
   "nbconvert_exporter": "python",
   "pygments_lexer": "ipython3",
   "version": "3.11.7"
  }
 },
 "nbformat": 4,
 "nbformat_minor": 5
}
