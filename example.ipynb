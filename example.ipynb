{
 "cells": [
  {
   "cell_type": "code",
   "execution_count": 2,
   "id": "b70a3411-7647-46b8-85b4-9f1f2ca9d06b",
   "metadata": {},
   "outputs": [],
   "source": [
    "import torch\n",
    "import numpy as np\n",
    "from einops import einsum\n",
    "\n",
    "from diffusers import DiffusionPipeline, DPMSolverMultistepScheduler\n",
    "from diffusers.utils import pt_to_pil\n",
    "from evotorch import Problem\n",
    "from evotorch.decorators import vectorized\n",
    "from evotorch.algorithms import CMAES, SNES, CEM\n",
    "from evotorch.logging import StdOutLogger, PandasLogger\n",
    "from noise_injection_pipelines.diffusion_pt import diffusion_sample, DiffusionSample\n",
    "from fitness.fitness_fn import brightness, clip_fitness_fn, compose_fitness_fns, relative_luminance, Novelty, pickscore_fitness_fn, aesthetic_fitness_fn\n",
    "from evo.vectorized_problem import VectorizedProblem\n",
    "import matplotlib.pyplot as plt\n",
    "\n",
    "from noise_injection_pipelines.noise_injection import rotational_transform, rotational_transform_inject_multiple, multi_axis_rotational_transform, svd_rot_transform, multi_axis_svd_rot_transform"
   ]
  },
  {
   "cell_type": "code",
   "execution_count": 3,
   "id": "1caf343a",
   "metadata": {},
   "outputs": [
    {
     "data": {
      "application/vnd.jupyter.widget-view+json": {
       "model_id": "f7be3e4ecf054d95993859cf44d3cecd",
       "version_major": 2,
       "version_minor": 0
      },
      "text/plain": [
       "model_index.json:   0%|          | 0.00/706 [00:00<?, ?B/s]"
      ]
     },
     "metadata": {},
     "output_type": "display_data"
    },
    {
     "data": {
      "application/vnd.jupyter.widget-view+json": {
       "model_id": "ec2a30252925485fadda71da01d99edd",
       "version_major": 2,
       "version_minor": 0
      },
      "text/plain": [
       "Fetching 26 files:   0%|          | 0/26 [00:00<?, ?it/s]"
      ]
     },
     "metadata": {},
     "output_type": "display_data"
    },
    {
     "data": {
      "application/vnd.jupyter.widget-view+json": {
       "model_id": "03976d0842df415081fde00d3006ea76",
       "version_major": 2,
       "version_minor": 0
      },
      "text/plain": [
       "text_encoder_2/config.json:   0%|          | 0.00/570 [00:00<?, ?B/s]"
      ]
     },
     "metadata": {},
     "output_type": "display_data"
    },
    {
     "data": {
      "application/vnd.jupyter.widget-view+json": {
       "model_id": "f234508064da4f71bd0fd7d309ea1656",
       "version_major": 2,
       "version_minor": 0
      },
      "text/plain": [
       "text_encoder/config.json:   0%|          | 0.00/574 [00:00<?, ?B/s]"
      ]
     },
     "metadata": {},
     "output_type": "display_data"
    },
    {
     "data": {
      "application/vnd.jupyter.widget-view+json": {
       "model_id": "b0db9b0e7c774168ae41c76916a11e42",
       "version_major": 2,
       "version_minor": 0
      },
      "text/plain": [
       "scheduler/scheduler_config.json:   0%|          | 0.00/141 [00:00<?, ?B/s]"
      ]
     },
     "metadata": {},
     "output_type": "display_data"
    },
    {
     "data": {
      "application/vnd.jupyter.widget-view+json": {
       "model_id": "0534de8813984f7486e10aed78abe88c",
       "version_major": 2,
       "version_minor": 0
      },
      "text/plain": [
       "text_encoder_3/config.json:   0%|          | 0.00/740 [00:00<?, ?B/s]"
      ]
     },
     "metadata": {},
     "output_type": "display_data"
    },
    {
     "data": {
      "application/vnd.jupyter.widget-view+json": {
       "model_id": "2fb5a9c8d2234b46bf5582ea780238a6",
       "version_major": 2,
       "version_minor": 0
      },
      "text/plain": [
       "model-00002-of-00002.safetensors:   0%|          | 0.00/4.53G [00:00<?, ?B/s]"
      ]
     },
     "metadata": {},
     "output_type": "display_data"
    },
    {
     "data": {
      "application/vnd.jupyter.widget-view+json": {
       "model_id": "3a84eb4c37174883bdbfc00d691430be",
       "version_major": 2,
       "version_minor": 0
      },
      "text/plain": [
       "model.safetensors:   0%|          | 0.00/247M [00:00<?, ?B/s]"
      ]
     },
     "metadata": {},
     "output_type": "display_data"
    },
    {
     "data": {
      "application/vnd.jupyter.widget-view+json": {
       "model_id": "3a0cb17bb44c4b04886e977c17b96220",
       "version_major": 2,
       "version_minor": 0
      },
      "text/plain": [
       "model-00001-of-00002.safetensors:   0%|          | 0.00/4.99G [00:00<?, ?B/s]"
      ]
     },
     "metadata": {},
     "output_type": "display_data"
    },
    {
     "data": {
      "application/vnd.jupyter.widget-view+json": {
       "model_id": "27c496494dc143ff9a032c149c43278f",
       "version_major": 2,
       "version_minor": 0
      },
      "text/plain": [
       "tokenizer/special_tokens_map.json:   0%|          | 0.00/588 [00:00<?, ?B/s]"
      ]
     },
     "metadata": {},
     "output_type": "display_data"
    },
    {
     "data": {
      "application/vnd.jupyter.widget-view+json": {
       "model_id": "6b9a55c2a9ad43c7abcb49be7e1125d7",
       "version_major": 2,
       "version_minor": 0
      },
      "text/plain": [
       "tokenizer/merges.txt:   0%|          | 0.00/525k [00:00<?, ?B/s]"
      ]
     },
     "metadata": {},
     "output_type": "display_data"
    },
    {
     "data": {
      "application/vnd.jupyter.widget-view+json": {
       "model_id": "ceaa023eed1047bd8d8fb369266d91fd",
       "version_major": 2,
       "version_minor": 0
      },
      "text/plain": [
       "tokenizer/tokenizer_config.json:   0%|          | 0.00/705 [00:00<?, ?B/s]"
      ]
     },
     "metadata": {},
     "output_type": "display_data"
    },
    {
     "data": {
      "application/vnd.jupyter.widget-view+json": {
       "model_id": "167680203c3941939578612adb319db8",
       "version_major": 2,
       "version_minor": 0
      },
      "text/plain": [
       "(…)t_encoder_3/model.safetensors.index.json:   0%|          | 0.00/19.9k [00:00<?, ?B/s]"
      ]
     },
     "metadata": {},
     "output_type": "display_data"
    },
    {
     "data": {
      "application/vnd.jupyter.widget-view+json": {
       "model_id": "74c82af0c97647809827b55944033ae6",
       "version_major": 2,
       "version_minor": 0
      },
      "text/plain": [
       "model.safetensors:   0%|          | 0.00/1.39G [00:00<?, ?B/s]"
      ]
     },
     "metadata": {},
     "output_type": "display_data"
    },
    {
     "data": {
      "application/vnd.jupyter.widget-view+json": {
       "model_id": "fc210f2475b94cc785a2bb2f2e605a7b",
       "version_major": 2,
       "version_minor": 0
      },
      "text/plain": [
       "tokenizer/vocab.json:   0%|          | 0.00/1.06M [00:00<?, ?B/s]"
      ]
     },
     "metadata": {},
     "output_type": "display_data"
    },
    {
     "data": {
      "application/vnd.jupyter.widget-view+json": {
       "model_id": "d75a9b6978664650ad01e15730f9a915",
       "version_major": 2,
       "version_minor": 0
      },
      "text/plain": [
       "tokenizer_2/special_tokens_map.json:   0%|          | 0.00/576 [00:00<?, ?B/s]"
      ]
     },
     "metadata": {},
     "output_type": "display_data"
    },
    {
     "data": {
      "application/vnd.jupyter.widget-view+json": {
       "model_id": "f0d322840e3b40748d9e59619d41026b",
       "version_major": 2,
       "version_minor": 0
      },
      "text/plain": [
       "tokenizer_2/tokenizer_config.json:   0%|          | 0.00/856 [00:00<?, ?B/s]"
      ]
     },
     "metadata": {},
     "output_type": "display_data"
    },
    {
     "data": {
      "application/vnd.jupyter.widget-view+json": {
       "model_id": "238101135a3548e183fd5b6a370de5b1",
       "version_major": 2,
       "version_minor": 0
      },
      "text/plain": [
       "tokenizer_3/special_tokens_map.json:   0%|          | 0.00/2.54k [00:00<?, ?B/s]"
      ]
     },
     "metadata": {},
     "output_type": "display_data"
    },
    {
     "data": {
      "application/vnd.jupyter.widget-view+json": {
       "model_id": "a63df2639b91491cb573a0b0e9cb1a93",
       "version_major": 2,
       "version_minor": 0
      },
      "text/plain": [
       "tokenizer_3/tokenizer.json:   0%|          | 0.00/2.42M [00:00<?, ?B/s]"
      ]
     },
     "metadata": {},
     "output_type": "display_data"
    },
    {
     "data": {
      "application/vnd.jupyter.widget-view+json": {
       "model_id": "419dfde494c04a8593cf3de5e8fa97b2",
       "version_major": 2,
       "version_minor": 0
      },
      "text/plain": [
       "spiece.model:   0%|          | 0.00/792k [00:00<?, ?B/s]"
      ]
     },
     "metadata": {},
     "output_type": "display_data"
    },
    {
     "data": {
      "application/vnd.jupyter.widget-view+json": {
       "model_id": "61d8fea0c2374fbaa22b3628b1967fbf",
       "version_major": 2,
       "version_minor": 0
      },
      "text/plain": [
       "transformer/config.json:   0%|          | 0.00/524 [00:00<?, ?B/s]"
      ]
     },
     "metadata": {},
     "output_type": "display_data"
    },
    {
     "data": {
      "application/vnd.jupyter.widget-view+json": {
       "model_id": "ce04a9f3a7714d38b1e28cf9efc55cef",
       "version_major": 2,
       "version_minor": 0
      },
      "text/plain": [
       "tokenizer_3/tokenizer_config.json:   0%|          | 0.00/20.6k [00:00<?, ?B/s]"
      ]
     },
     "metadata": {},
     "output_type": "display_data"
    },
    {
     "data": {
      "application/vnd.jupyter.widget-view+json": {
       "model_id": "6a36871495474970b0b90a5548c8e7b4",
       "version_major": 2,
       "version_minor": 0
      },
      "text/plain": [
       "diffusion_pytorch_model.safetensors:   0%|          | 0.00/4.94G [00:00<?, ?B/s]"
      ]
     },
     "metadata": {},
     "output_type": "display_data"
    },
    {
     "data": {
      "application/vnd.jupyter.widget-view+json": {
       "model_id": "db8fab36140c4153a64bc81eff604719",
       "version_major": 2,
       "version_minor": 0
      },
      "text/plain": [
       "vae/config.json:   0%|          | 0.00/809 [00:00<?, ?B/s]"
      ]
     },
     "metadata": {},
     "output_type": "display_data"
    },
    {
     "data": {
      "application/vnd.jupyter.widget-view+json": {
       "model_id": "877931feba3047e2a3b446adaab0c4e7",
       "version_major": 2,
       "version_minor": 0
      },
      "text/plain": [
       "diffusion_pytorch_model.safetensors:   0%|          | 0.00/168M [00:00<?, ?B/s]"
      ]
     },
     "metadata": {},
     "output_type": "display_data"
    },
    {
     "data": {
      "application/vnd.jupyter.widget-view+json": {
       "model_id": "bdc178aadb584e4e8cd2b7bfb97596a5",
       "version_major": 2,
       "version_minor": 0
      },
      "text/plain": [
       "Loading pipeline components...:   0%|          | 0/9 [00:00<?, ?it/s]"
      ]
     },
     "metadata": {},
     "output_type": "display_data"
    },
    {
     "data": {
      "application/vnd.jupyter.widget-view+json": {
       "model_id": "124caa6e04194281aad7640369a4cf00",
       "version_major": 2,
       "version_minor": 0
      },
      "text/plain": [
       "Loading checkpoint shards:   0%|          | 0/2 [00:00<?, ?it/s]"
      ]
     },
     "metadata": {},
     "output_type": "display_data"
    },
    {
     "name": "stderr",
     "output_type": "stream",
     "text": [
      "You set `add_prefix_space`. The tokenizer needs to be converted from the slow tokenizers\n"
     ]
    }
   ],
   "source": [
    "model_id = \"stabilityai/stable-diffusion-3.5-medium\"\n",
    "pipeline = DiffusionPipeline.from_pretrained(model_id, use_safetensors=True, torch_dtype=torch.float16)"
   ]
  },
  {
   "cell_type": "code",
   "execution_count": 4,
   "id": "fd661ab9",
   "metadata": {},
   "outputs": [
    {
     "data": {
      "text/plain": [
       "StableDiffusion3Pipeline {\n",
       "  \"_class_name\": \"StableDiffusion3Pipeline\",\n",
       "  \"_diffusers_version\": \"0.32.1\",\n",
       "  \"_name_or_path\": \"stabilityai/stable-diffusion-3.5-medium\",\n",
       "  \"feature_extractor\": [\n",
       "    null,\n",
       "    null\n",
       "  ],\n",
       "  \"image_encoder\": [\n",
       "    null,\n",
       "    null\n",
       "  ],\n",
       "  \"scheduler\": [\n",
       "    \"diffusers\",\n",
       "    \"FlowMatchEulerDiscreteScheduler\"\n",
       "  ],\n",
       "  \"text_encoder\": [\n",
       "    \"transformers\",\n",
       "    \"CLIPTextModelWithProjection\"\n",
       "  ],\n",
       "  \"text_encoder_2\": [\n",
       "    \"transformers\",\n",
       "    \"CLIPTextModelWithProjection\"\n",
       "  ],\n",
       "  \"text_encoder_3\": [\n",
       "    \"transformers\",\n",
       "    \"T5EncoderModel\"\n",
       "  ],\n",
       "  \"tokenizer\": [\n",
       "    \"transformers\",\n",
       "    \"CLIPTokenizer\"\n",
       "  ],\n",
       "  \"tokenizer_2\": [\n",
       "    \"transformers\",\n",
       "    \"CLIPTokenizer\"\n",
       "  ],\n",
       "  \"tokenizer_3\": [\n",
       "    \"transformers\",\n",
       "    \"T5TokenizerFast\"\n",
       "  ],\n",
       "  \"transformer\": [\n",
       "    \"diffusers\",\n",
       "    \"SD3Transformer2DModel\"\n",
       "  ],\n",
       "  \"vae\": [\n",
       "    \"diffusers\",\n",
       "    \"AutoencoderKL\"\n",
       "  ]\n",
       "}"
      ]
     },
     "execution_count": 4,
     "metadata": {},
     "output_type": "execute_result"
    }
   ],
   "source": [
    "pipeline"
   ]
  },
  {
   "cell_type": "code",
   "execution_count": null,
   "id": "72d681e4-b6d4-4c7b-b08d-dac2d43aa7bc",
   "metadata": {},
   "outputs": [],
   "source": [
    "device = \"cuda\" if torch.cuda.is_available() else \"cpu\"\n",
    "CACHE_DIR = \"/scratch/gilbreth/pjajal/hf_datasets\"\n",
    "\n",
    "model_id = \"stable-diffusion-v1-5/stable-diffusion-v1-5\"\n",
    "# model_id = \"stabilityai/stable-diffusion-2-base\"\n",
    "pipeline = DiffusionPipeline.from_pretrained(\n",
    "    model_id,\n",
    "    # scheduler=scheduler,\n",
    "    use_safetensors=True,\n",
    "    torch_dtype=torch.float16,\n",
    "    cache_dir=CACHE_DIR,\n",
    "\n",
    ").to(device)"
   ]
  },
  {
   "cell_type": "code",
   "execution_count": null,
   "id": "ac903363-e0b0-4c68-9672-ae281eedfdda",
   "metadata": {},
   "outputs": [],
   "source": [
    "problem_split = 2\n",
    "num_inference_steps = 15\n",
    "noise_scale = 1.0\n",
    "sample_fn = DiffusionSample(pipeline, [\"a picture of a dog\"], num_inference_steps, torch.Generator(device=device).manual_seed(98), guidance_scale=7.5, batch_size=1, inject_multiple=True, inject_multiple_noise_scale=noise_scale)\n",
    "centers, num_inference_steps, dtype = sample_fn.noise_injection_args()\n",
    "\n",
    "clip_fit = clip_fitness_fn(\"openai/clip-vit-large-patch14\", [\"drawing of a cat\"], cache_dir=CACHE_DIR, dtype=dtype)\n",
    "# novelty = Novelty(\"dino_small\", top_k=20, device=device, cache_dir=CACHE_DIR)\n",
    "# pick = pickscore_fitness_fn([\"a picture of an orange dog\"], cache_dir=CACHE_DIR, device=device)\n",
    "# pick = lambda x : 0\n",
    "# aes = aesthetic_fitness_fn(CACHE_DIR, device=device, dtype=dtype)\n",
    "fit = compose_fitness_fns([clip_fit], [1])"
   ]
  },
  {
   "cell_type": "code",
   "execution_count": null,
   "id": "b1c04097-1a0b-44ce-a111-b73b94af83f7",
   "metadata": {},
   "outputs": [],
   "source": [
    "mean_scale = 0.01\n",
    "initial_bounds=(-1,1)\n",
    "injection_steps = num_inference_steps\n",
    "noise_scale = [1.0, 0.5, 0.25, 0.1]\n",
    "noise_scale = (np.linspace(1, 0, num=num_inference_steps) ** 8).tolist()\n",
    "sample_fn.inject_multiple_noise_scale = noise_scale\n",
    "fitness_fn, inner_fn, centroid, solution_length = rotational_transform_inject_multiple(sample_fn, fit, sample_fn.latents.shape, device, injection_steps=injection_steps, center=centers, mean_scale=mean_scale, dtype=dtype)\n",
    "\n",
    "problem = VectorizedProblem(\"max\", fitness_fn, solution_length=solution_length, initial_bounds=initial_bounds, dtype=np.dtype('float32'), splits=problem_split, initialization=None)\n",
    "searcher = CMAES(problem, stdev_init=1, separable=True, csa_squared=True)\n",
    "# searcher = SNES(problem, stdev_init=10)\n",
    "logger = StdOutLogger(searcher)\n",
    "pandas_logger = PandasLogger(searcher)\n",
    "print(f\"pop. size: {searcher.popsize}\")"
   ]
  },
  {
   "cell_type": "code",
   "execution_count": null,
   "id": "14c5e7cf-47af-492f-ab60-78bc9d4ee45a",
   "metadata": {},
   "outputs": [],
   "source": [
    "a = sample_fn()\n",
    "plt.imshow(pt_to_pil(a)[0])\n",
    "plt.show()\n",
    "with torch.no_grad():\n",
    "    for step in range(200):\n",
    "      searcher.step()\n",
    "      best_idx = searcher.population.argbest()\n",
    "      x = searcher.population[best_idx].values\n",
    "\n",
    "      a = inner_fn(x)\n",
    "      plt.imshow(pt_to_pil(a)[0])\n",
    "      plt.show()"
   ]
  },
  {
   "cell_type": "code",
   "execution_count": null,
   "id": "8148cfb2-bcdc-4463-a240-29fb591b502b",
   "metadata": {},
   "outputs": [],
   "source": [
    "mean_scale = 0.01\n",
    "initial_bounds=(-1,1)\n",
    "fitness_fn, inner_fn, centroid, solution_length = multi_axis_rotational_transform(sample_fn, fit, sample_fn.latents.shape, device, center=centers, mean_scale=mean_scale, dtype=dtype)\n",
    "\n",
    "problem = VectorizedProblem(\"max\", fitness_fn, solution_length=solution_length, initial_bounds=initial_bounds, dtype=np.dtype('float32'), splits=problem_split, initialization=None)\n",
    "searcher = CMAES(problem, stdev_init=1, separable=True, csa_squared=True)\n",
    "# searcher = SNES(problem, stdev_init=10)\n",
    "logger = StdOutLogger(searcher)\n",
    "pandas_logger = PandasLogger(searcher)\n",
    "print(f\"pop. size: {searcher.popsize}\")"
   ]
  },
  {
   "cell_type": "code",
   "execution_count": null,
   "id": "daf7f5e3-33ec-4f5c-a1bb-38fdc05251e9",
   "metadata": {},
   "outputs": [],
   "source": [
    "a = sample_fn()\n",
    "plt.imshow(pt_to_pil(a)[0])\n",
    "plt.show()\n",
    "with torch.no_grad():\n",
    "    for step in range(200):\n",
    "      searcher.step()\n",
    "      best_idx = searcher.population.argbest()\n",
    "      x = searcher.population[best_idx].values\n",
    "\n",
    "      a = inner_fn(x)\n",
    "      plt.imshow(pt_to_pil(a)[0])\n",
    "      plt.show()"
   ]
  },
  {
   "cell_type": "code",
   "execution_count": null,
   "id": "311b3e97-cd97-48a5-abac-d8c3b0c13c88",
   "metadata": {},
   "outputs": [],
   "source": [
    "mean_scale = 0.01\n",
    "initial_bounds=(-1,1)\n",
    "fitness_fn, inner_fn, centroid, solution_length = svd_rot_transform(sample_fn, fit, sample_fn.latents.shape, device, center=centers, mean_scale=mean_scale, bound=0.01, dtype=dtype)\n",
    "\n",
    "problem = VectorizedProblem(\"max\", fitness_fn, solution_length=solution_length, initial_bounds=initial_bounds, dtype=np.dtype('float32'), splits=problem_split, initialization=None)\n",
    "searcher = CMAES(problem, stdev_init=5, separable=True, csa_squared=True)\n",
    "# searcher = SNES(problem, stdev_init=10)\n",
    "logger = StdOutLogger(searcher)\n",
    "pandas_logger = PandasLogger(searcher)\n",
    "print(f\"pop. size: {searcher.popsize}\")"
   ]
  },
  {
   "cell_type": "code",
   "execution_count": null,
   "id": "39115801-9faf-4263-8732-0cdd6859c580",
   "metadata": {},
   "outputs": [],
   "source": [
    "a = sample_fn()\n",
    "plt.imshow(pt_to_pil(a)[0])\n",
    "plt.show()\n",
    "for step in range(200):\n",
    "  searcher.step()\n",
    "  best_idx = searcher.population.argbest()\n",
    "  x = searcher.population[best_idx].values\n",
    "    \n",
    "  a = inner_fn(x)\n",
    "  plt.imshow(pt_to_pil(a)[0])\n",
    "  plt.show()"
   ]
  },
  {
   "cell_type": "code",
   "execution_count": null,
   "id": "3a401d0d-1315-4501-9fc4-c4263758c299",
   "metadata": {},
   "outputs": [],
   "source": [
    "mean_scale = 0.0001\n",
    "initial_bounds=(-1,1)\n",
    "fitness_fn, inner_fn, centroid, solution_length = multi_axis_svd_rot_transform(sample_fn, fit, sample_fn.latents.shape, device, center=centers, mean_scale=mean_scale, bound=0.001, dtype=dtype)\n",
    "\n",
    "problem = VectorizedProblem(\"max\", fitness_fn, solution_length=solution_length, initial_bounds=initial_bounds, dtype=np.dtype('float32'), splits=problem_split, initialization=None)\n",
    "searcher = CMAES(problem, stdev_init=1, separable=True, csa_squared=True)\n",
    "# searcher = SNES(problem, stdev_init=10)\n",
    "logger = StdOutLogger(searcher)\n",
    "pandas_logger = PandasLogger(searcher)\n",
    "print(f\"pop. size: {searcher.popsize}\")"
   ]
  },
  {
   "cell_type": "code",
   "execution_count": null,
   "id": "533393d3-52cf-4508-af18-0f73abd29d33",
   "metadata": {},
   "outputs": [],
   "source": [
    "a = sample_fn()\n",
    "plt.imshow(pt_to_pil(a)[0])\n",
    "plt.show()\n",
    "with torch.no_grad():\n",
    "    for step in range(200):\n",
    "      searcher.step()\n",
    "      best_idx = searcher.population.argbest()\n",
    "      x = searcher.population[best_idx].values\n",
    "\n",
    "      a = inner_fn(x)\n",
    "      plt.imshow(pt_to_pil(a)[0])\n",
    "      plt.show()"
   ]
  },
  {
   "cell_type": "code",
   "execution_count": null,
   "id": "e43ac8df-a2d8-4691-9324-a8785ed276f4",
   "metadata": {},
   "outputs": [],
   "source": []
  }
 ],
 "metadata": {
  "kernelspec": {
   "display_name": "diffusion-traj",
   "language": "python",
   "name": "python3"
  },
  "language_info": {
   "codemirror_mode": {
    "name": "ipython",
    "version": 3
   },
   "file_extension": ".py",
   "mimetype": "text/x-python",
   "name": "python",
   "nbconvert_exporter": "python",
   "pygments_lexer": "ipython3",
   "version": "3.12.0"
  }
 },
 "nbformat": 4,
 "nbformat_minor": 5
}
