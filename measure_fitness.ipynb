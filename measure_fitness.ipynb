{
 "cells": [
  {
   "cell_type": "code",
   "execution_count": 2,
   "metadata": {},
   "outputs": [],
   "source": [
    "from PIL import Image\n",
    "import os\n",
    "from fitness import brightness, relative_luminance, imagereward_fitness_fn, hpsv2_fitness_fn, jpeg_compressibility, saturation"
   ]
  },
  {
   "cell_type": "markdown",
   "metadata": {},
   "source": [
    "# Brightness"
   ]
  },
  {
   "cell_type": "code",
   "execution_count": 7,
   "metadata": {},
   "outputs": [
    {
     "name": "stdout",
     "output_type": "stream",
     "text": [
      "Baseline image brightness: 0.48\n",
      "Image 1 brightness: 0.67\n",
      "Image 2 brightness: 0.69\n",
      "Image 3 brightness: 0.75\n",
      "Image 4 brightness: 0.77\n",
      "Image 5 brightness: 0.79\n",
      "Image 6 brightness: 0.79\n",
      "Image 7 brightness: 0.74\n",
      "Image 8 brightness: 0.78\n",
      "Image 9 brightness: 0.79\n",
      "Image 10 brightness: 0.87\n",
      "Image 11 brightness: 0.88\n",
      "Image 12 brightness: 0.87\n",
      "Image 13 brightness: 0.89\n",
      "Image 14 brightness: 0.90\n"
     ]
    }
   ],
   "source": [
    "base_path = \"results/figure/brightness_3/benchmark_runs/sd3_2025-04-01_18-18-16\"\n",
    "baseline_path = os.path.join(base_path, \"8-bit movi_baseline.png\")\n",
    "\n",
    "baseline_img = Image.open(baseline_path)\n",
    "print(f\"Baseline image brightness: {brightness(baseline_img).item():.2f}\", )\n",
    "\n",
    "for i in range(1, 15):\n",
    "    image_path = os.path.join(base_path, f\"8-bit movi_{i}.png\")\n",
    "    image = Image.open(image_path)\n",
    "\n",
    "    # Calculate brightness\n",
    "    img_brightness = brightness(image).item()\n",
    "    print(f\"Image {i} brightness: {img_brightness:.2f}\")"
   ]
  },
  {
   "cell_type": "markdown",
   "metadata": {},
   "source": [
    "# Jpeg Comp"
   ]
  },
  {
   "cell_type": "code",
   "execution_count": 11,
   "metadata": {},
   "outputs": [
    {
     "name": "stdout",
     "output_type": "stream",
     "text": [
      "Baseline Img JPEG size (KB): 138.85\n",
      "Image 1 JPEG size (KB): 104.72\n",
      "Image 2 JPEG size (KB): 102.64\n",
      "Image 3 JPEG size (KB): 84.58\n",
      "Image 4 JPEG size (KB): 50.81\n",
      "Image 5 JPEG size (KB): 53.75\n",
      "Image 6 JPEG size (KB): 52.57\n",
      "Image 7 JPEG size (KB): 48.95\n",
      "Image 8 JPEG size (KB): 47.28\n",
      "Image 9 JPEG size (KB): 46.97\n",
      "Image 10 JPEG size (KB): 40.88\n",
      "Image 11 JPEG size (KB): 41.39\n",
      "Image 12 JPEG size (KB): 41.38\n",
      "Image 13 JPEG size (KB): 41.15\n",
      "Image 14 JPEG size (KB): 39.84\n",
      "Image 15 JPEG size (KB): 39.78\n"
     ]
    }
   ],
   "source": [
    "base_path = \"results/figure/jpeg_comp_2/benchmark_runs/sd3_2025-04-01_19-38-44\"\n",
    "baseline_path = os.path.join(base_path, \"Sydney Ope_baseline.png\")\n",
    "\n",
    "baseline_img = Image.open(baseline_path)\n",
    "print(f\"Baseline Img JPEG size (KB): {jpeg_compressibility(baseline_img).item():.2f}\", )\n",
    "\n",
    "for i in range(1, 16):\n",
    "    image_path = os.path.join(base_path, f\"Sydney Ope_{i}.png\")\n",
    "    image = Image.open(image_path)\n",
    "\n",
    "    # Calculate brightness\n",
    "    comp_size = jpeg_compressibility(image).item()\n",
    "    print(f\"Image {i} JPEG size (KB): {comp_size:.2f}\")"
   ]
  },
  {
   "cell_type": "markdown",
   "metadata": {},
   "source": [
    "# Luminance"
   ]
  },
  {
   "cell_type": "code",
   "execution_count": 15,
   "metadata": {},
   "outputs": [
    {
     "name": "stdout",
     "output_type": "stream",
     "text": [
      "Baseline Img luminance: 0.48\n",
      "Image 1 luminance: 0.35\n",
      "Image 2 luminance: 0.33\n",
      "Image 3 luminance: 0.31\n",
      "Image 4 luminance: 0.29\n",
      "Image 5 luminance: 0.26\n",
      "Image 6 luminance: 0.24\n",
      "Image 7 luminance: 0.21\n",
      "Image 8 luminance: 0.21\n",
      "Image 9 luminance: 0.16\n",
      "Image 10 luminance: 0.15\n",
      "Image 11 luminance: 0.14\n",
      "Image 12 luminance: 0.12\n",
      "Image 13 luminance: 0.12\n",
      "Image 14 luminance: 0.12\n",
      "Image 15 luminance: 0.11\n"
     ]
    }
   ],
   "source": [
    "base_path = \"results/figure/rel_luminance_1/benchmark_runs/sd3_2025-04-01_19-56-34\"\n",
    "baseline_path = os.path.join(base_path, \"the Kremli_baseline.png\")\n",
    "\n",
    "baseline_img = Image.open(baseline_path)\n",
    "print(f\"Baseline Img luminance: {relative_luminance(baseline_img).item():.2f}\", )\n",
    "\n",
    "for i in range(1, 16):\n",
    "    image_path = os.path.join(base_path, f\"the Kremli_{i}.png\")\n",
    "    image = Image.open(image_path)\n",
    "\n",
    "    # Calculate luminance\n",
    "    lum = relative_luminance(image).item()\n",
    "    print(f\"Image {i} luminance: {lum:.2f}\")"
   ]
  },
  {
   "cell_type": "markdown",
   "metadata": {},
   "source": [
    "# HPS"
   ]
  },
  {
   "cell_type": "code",
   "execution_count": 18,
   "metadata": {},
   "outputs": [
    {
     "name": "stdout",
     "output_type": "stream",
     "text": [
      "Baseline Img HPSV: 0.2646\n",
      "Image 1 HPSV: 0.2800\n",
      "Image 2 HPSV: 0.2815\n",
      "Image 3 HPSV: 0.2832\n",
      "Image 4 HPSV: 0.2844\n",
      "Image 5 HPSV: 0.2874\n",
      "Image 6 HPSV: 0.2903\n",
      "Image 7 HPSV: 0.2913\n",
      "Image 8 HPSV: 0.2922\n",
      "Image 9 HPSV: 0.2917\n",
      "Image 10 HPSV: 0.2947\n",
      "Image 11 HPSV: 0.2944\n",
      "Image 12 HPSV: 0.2944\n",
      "Image 13 HPSV: 0.2971\n",
      "Image 14 HPSV: 0.2976\n",
      "Image 15 HPSV: 0.2966\n"
     ]
    }
   ],
   "source": [
    "base_path = \"results/figure/hps_1/benchmark_runs/sd3_2025-04-02_13-31-31\"\n",
    "baseline_path = os.path.join(base_path, \"Closeup po_baseline.png\")\n",
    "\n",
    "prompt = \"Closeup portrait of an ancient evil wizard with dramatic light, ethereal lake background, intricate runes, and mystical symbols, painted in a fantasy style\"\n",
    "hpsv2 = hpsv2_fitness_fn(prompt=prompt, device=\"cuda\")\n",
    "\n",
    "baseline_img = Image.open(baseline_path)\n",
    "print(f\"Baseline Img HPSV: {hpsv2(baseline_img).item():.4f}\", )\n",
    "\n",
    "for i in range(1, 16):\n",
    "    image_path = os.path.join(base_path, f\"Closeup po_{i}.png\")\n",
    "    image = Image.open(image_path)\n",
    "\n",
    "    # Calculate luminance\n",
    "    score = hpsv2(image).item()\n",
    "    print(f\"Image {i} HPSV: {score:.4f}\")"
   ]
  },
  {
   "cell_type": "markdown",
   "metadata": {},
   "source": [
    "# ImageReward"
   ]
  },
  {
   "cell_type": "code",
   "execution_count": 19,
   "metadata": {},
   "outputs": [
    {
     "name": "stdout",
     "output_type": "stream",
     "text": [
      "load checkpoint from /home/jajal/.cache/ImageReward/ImageReward.pt\n",
      "checkpoint loaded\n",
      "Baseline Img Reward: 1.4077\n",
      "Image 1 Reward: 1.7325\n",
      "Image 2 Reward: 1.7760\n",
      "Image 3 Reward: 1.7437\n",
      "Image 4 Reward: 1.8039\n",
      "Image 5 Reward: 1.8117\n",
      "Image 6 Reward: 1.8672\n",
      "Image 7 Reward: 1.8821\n",
      "Image 8 Reward: 1.8838\n",
      "Image 9 Reward: 1.8509\n",
      "Image 10 Reward: 1.8384\n",
      "Image 11 Reward: 1.8766\n",
      "Image 12 Reward: 1.8609\n",
      "Image 13 Reward: 1.8765\n",
      "Image 14 Reward: 1.9031\n",
      "Image 15 Reward: 1.9148\n"
     ]
    }
   ],
   "source": [
    "base_path = \"results/figure/img_reward_1/benchmark_runs/sd3_2025-04-02_16-32-38\"\n",
    "baseline_path = os.path.join(base_path, \"Closeup po_baseline.png\")\n",
    "\n",
    "prompt = \"Closeup portrait of an ancient evil wizard with dramatic light, ethereal lake background, intricate runes, and mystical symbols, painted in a fantasy style\"\n",
    "img_reward = imagereward_fitness_fn(prompt=prompt, device=\"cuda\")\n",
    "\n",
    "baseline_img = Image.open(baseline_path)\n",
    "print(f\"Baseline Img Reward: {img_reward(baseline_img).item():.4f}\", )\n",
    "\n",
    "for i in range(1, 16):\n",
    "    image_path = os.path.join(base_path, f\"Closeup po_{i}.png\")\n",
    "    image = Image.open(image_path)\n",
    "\n",
    "    # Calculate luminance\n",
    "    score = img_reward(image).item()\n",
    "    print(f\"Image {i} Reward: {score:.4f}\")"
   ]
  },
  {
   "cell_type": "code",
   "execution_count": 3,
   "metadata": {},
   "outputs": [
    {
     "name": "stdout",
     "output_type": "stream",
     "text": [
      "Baseline Img Saturation: 0.18\n",
      "Image 1 Saturation: 0.44\n",
      "Image 2 Saturation: 0.45\n",
      "Image 3 Saturation: 0.49\n",
      "Image 4 Saturation: 0.66\n",
      "Image 5 Saturation: 0.68\n",
      "Image 6 Saturation: 0.69\n",
      "Image 7 Saturation: 0.72\n",
      "Image 8 Saturation: 0.77\n",
      "Image 9 Saturation: 0.78\n",
      "Image 10 Saturation: 0.81\n",
      "Image 11 Saturation: 0.85\n",
      "Image 12 Saturation: 0.86\n",
      "Image 13 Saturation: 0.89\n",
      "Image 14 Saturation: 0.92\n",
      "Image 15 Saturation: 0.93\n"
     ]
    }
   ],
   "source": [
    "base_path = \"results/figure/saturation/benchmark_runs/sd3_2025-04-29_11-42-29\"\n",
    "baseline_path = os.path.join(base_path, \"sculpture_explo_baseline.png\")\n",
    "\n",
    "baseline_img = Image.open(baseline_path)\n",
    "print(f\"Baseline Img Saturation: {saturation(baseline_img).item():.2f}\", )\n",
    "\n",
    "for i in range(1, 16):\n",
    "    image_path = os.path.join(base_path, f\"sculpture_explo_{i}.png\")\n",
    "    image = Image.open(image_path)\n",
    "\n",
    "    # Calculate luminance\n",
    "    lum = saturation(image).item()\n",
    "    print(f\"Image {i} Saturation: {lum:.2f}\")"
   ]
  },
  {
   "cell_type": "code",
   "execution_count": null,
   "metadata": {},
   "outputs": [],
   "source": []
  }
 ],
 "metadata": {
  "kernelspec": {
   "display_name": "diff-traf",
   "language": "python",
   "name": "python3"
  },
  "language_info": {
   "codemirror_mode": {
    "name": "ipython",
    "version": 3
   },
   "file_extension": ".py",
   "mimetype": "text/x-python",
   "name": "python",
   "nbconvert_exporter": "python",
   "pygments_lexer": "ipython3",
   "version": "3.12.8"
  }
 },
 "nbformat": 4,
 "nbformat_minor": 2
}
