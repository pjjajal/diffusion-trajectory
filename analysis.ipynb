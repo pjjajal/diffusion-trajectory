{
 "cells": [
  {
   "cell_type": "markdown",
   "id": "895a2a91",
   "metadata": {},
   "source": [
    "# WandB results"
   ]
  },
  {
   "cell_type": "code",
   "execution_count": null,
   "id": "1416072e",
   "metadata": {},
   "outputs": [],
   "source": [
    "import wandb\n",
    "import numpy as np\n",
    "import torch\n",
    "import pandas as pd"
   ]
  },
  {
   "cell_type": "code",
   "execution_count": null,
   "id": "06b10853",
   "metadata": {},
   "outputs": [],
   "source": [
    "def flatten_log(log):\n",
    "    out = {}\n",
    "    for k, v in log.items():\n",
    "        if isinstance(v, dict):\n",
    "            for k2, v2 in v.items():\n",
    "                out[f\"{k}.{k2}\"] = v2\n",
    "        elif isinstance(v, list):\n",
    "            if len(v) == 1:\n",
    "                out[k] = v[0]\n",
    "        else:\n",
    "            out[k] = v\n",
    "    return out\n",
    "\n",
    "\n",
    "def handle_v(v):\n",
    "    if isinstance(v, list):\n",
    "        return handle_v(v[0])\n",
    "    if isinstance(v, np.float32):\n",
    "        return v.item()\n",
    "    if isinstance(v, torch.Tensor):\n",
    "        # Handle torch tensors\n",
    "        if v.numel() == 1:\n",
    "            return v.item()\n",
    "        else:\n",
    "            # Return the numpy array if it has more than one element\n",
    "            return v.cpu().numpy()\n",
    "    return v"
   ]
  },
  {
   "cell_type": "code",
   "execution_count": null,
   "id": "156fd317",
   "metadata": {},
   "outputs": [],
   "source": [
    "def get_wandb_logs(api, run_path):\n",
    "    # Fetch the run\n",
    "    run = api.run(run_path)\n",
    "    scan_history = run.scan_history()  # Fetch the scan history\n",
    "\n",
    "    # Flatten the logs\n",
    "    flattened_logs = [flatten_log(log) for log in scan_history]\n",
    "    all_data = pd.DataFrame(flattened_logs)\n",
    "    return all_data"
   ]
  },
  {
   "cell_type": "code",
   "execution_count": null,
   "id": "48c54e50",
   "metadata": {},
   "outputs": [],
   "source": [
    "def compute_deltas(data, up_to_step=15, max_or_min=\"max\"):\n",
    "    data = data[\n",
    "        [\n",
    "            \"step\",\n",
    "            \"pop_best_eval\",\n",
    "            \"median_eval\",\n",
    "            \"mean_eval\",\n",
    "            \"prompt\",\n",
    "            \"running_time\",\n",
    "            \"memory\",\n",
    "            \"best_img.path\"\n",
    "        ]\n",
    "    ]\n",
    "\n",
    "    step_0 = data[data[\"step\"] == 0]\n",
    "    all_other_steps = data[data[\"step\"] != 0]\n",
    "\n",
    "    baseline_pop_best = step_0.groupby(\"prompt\")[\"pop_best_eval\"].agg([\"mean\"])\n",
    "    pop_bests = (\n",
    "        all_other_steps.loc[all_other_steps[\"step\"] <= up_to_step]\n",
    "        .groupby(\"prompt\")[[\"pop_best_eval\", \"mean_eval\", \"median_eval\"]]\n",
    "        .agg([max_or_min])\n",
    "    )\n",
    "\n",
    "    pop_bests.columns = pop_bests.columns.map(\"_\".join)\n",
    "    joined_data = baseline_pop_best.join(pop_bests)\n",
    "    joined_data[\"delta_max\"] = joined_data[f\"pop_best_eval_{max_or_min}\"] - joined_data[\"mean\"]\n",
    "    joined_data[\"delta_mean\"] = joined_data[f\"mean_eval_{max_or_min}\"] - joined_data[\"mean\"]\n",
    "    joined_data[\"delta_median\"] = joined_data[f\"median_eval_{max_or_min}\"] - joined_data[\"mean\"]\n",
    "\n",
    "    # joined_data = joined_data.rename(columns={\"mean\": \"baseline\", \"pop_best_eval_max\": \"pop_best\"})\n",
    "    joined_data = joined_data.reset_index()\n",
    "    joined_data = joined_data.rename(\n",
    "        columns={\n",
    "            \"mean\": \"baseline\",\n",
    "            f\"pop_best_eval_{max_or_min}\": \"pop_best\",\n",
    "            f\"mean_eval_{max_or_min}\": \"mean\",\n",
    "            f\"median_eval_{max_or_min}\": \"median\",\n",
    "            \"delta_max\": \"improvement_max\",\n",
    "            \"delta_mean\": \"improvement_mean\",\n",
    "            \"delta_median\": \"improvement_median\",\n",
    "        }\n",
    "    )\n",
    "\n",
    "    # Get the best image paths\n",
    "    subset = all_other_steps.loc[all_other_steps[\"step\"] <= up_to_step]\n",
    "    best_img_indices = subset.groupby(\"prompt\")[[\"pop_best_eval\"]].idxmax()\n",
    "    best_rows = subset.loc[best_img_indices.values.flatten()]\n",
    "    best_img_paths = best_rows[[\"prompt\", 'best_img.path']].set_index(\"prompt\")\n",
    "    joined_data = joined_data.join(best_img_paths, on=\"prompt\")\n",
    "    return joined_data"
   ]
  },
  {
   "cell_type": "code",
   "execution_count": null,
   "id": "6a66fd0d",
   "metadata": {},
   "outputs": [],
   "source": [
    "def compute_deltas_dnos(data, up_to_step=15, max_or_min=\"max\"):\n",
    "    data = data[[\"Step\", \"Prompt\", \"Reward\"]]\n",
    "\n",
    "    step_0 = data[data[\"Step\"] == 0]\n",
    "    all_other_steps = data[data[\"Step\"] != 0]\n",
    "\n",
    "    baseline_pop_best = step_0.groupby(\"Prompt\")[\"Reward\"].agg([\"mean\"])\n",
    "    pop_bests = (\n",
    "        all_other_steps.loc[all_other_steps[\"Step\"] <= up_to_step]\n",
    "        .groupby(\"Prompt\")[\"Reward\"]\n",
    "        .agg([max_or_min])\n",
    "    )\n",
    "    joined_data = pop_bests.join(baseline_pop_best)\n",
    "    joined_data[\"delta\"] = joined_data[max_or_min] - joined_data[\"mean\"]\n",
    "    joined_data = joined_data.rename(columns={\"mean\": \"baseline\", f\"{max_or_min}\": \"pop_best\"})\n",
    "    joined_data = joined_data.reset_index()\n",
    "    joined_data = joined_data.rename(columns={\"mean\": \"baseline\", f\"{max_or_min}\": \"pop_best\", \"delta\": \"improvement\", \"Prompt\": \"prompt\"})\n",
    "    return joined_data"
   ]
  },
  {
   "cell_type": "code",
   "execution_count": null,
   "id": "8f95ab36",
   "metadata": {},
   "outputs": [],
   "source": [
    "def add_fields(data, fields):\n",
    "    for col, val in fields.items():\n",
    "        data[col] = val\n",
    "    return data"
   ]
  },
  {
   "cell_type": "code",
   "execution_count": null,
   "id": "3f57d49e",
   "metadata": {},
   "outputs": [],
   "source": [
    "# Initialize WandB\n",
    "api = wandb.Api(timeout=60)"
   ]
  },
  {
   "cell_type": "markdown",
   "id": "92b666ed",
   "metadata": {},
   "source": [
    "## SD Random"
   ]
  },
  {
   "cell_type": "markdown",
   "id": "6110c2ed",
   "metadata": {},
   "source": [
    "### Img Reward"
   ]
  },
  {
   "cell_type": "code",
   "execution_count": 157,
   "id": "a471a5ba",
   "metadata": {},
   "outputs": [
    {
     "data": {
      "text/html": [
       "<div>\n",
       "<style scoped>\n",
       "    .dataframe tbody tr th:only-of-type {\n",
       "        vertical-align: middle;\n",
       "    }\n",
       "\n",
       "    .dataframe tbody tr th {\n",
       "        vertical-align: top;\n",
       "    }\n",
       "\n",
       "    .dataframe thead th {\n",
       "        text-align: right;\n",
       "    }\n",
       "</style>\n",
       "<table border=\"1\" class=\"dataframe\">\n",
       "  <thead>\n",
       "    <tr style=\"text-align: right;\">\n",
       "      <th></th>\n",
       "      <th>baseline</th>\n",
       "      <th>pop_best</th>\n",
       "      <th>mean</th>\n",
       "      <th>median</th>\n",
       "      <th>improvement_max</th>\n",
       "      <th>improvement_mean</th>\n",
       "      <th>improvement_median</th>\n",
       "    </tr>\n",
       "  </thead>\n",
       "  <tbody>\n",
       "    <tr>\n",
       "      <th>count</th>\n",
       "      <td>200.000000</td>\n",
       "      <td>200.000000</td>\n",
       "      <td>200.000000</td>\n",
       "      <td>200.000000</td>\n",
       "      <td>200.000000</td>\n",
       "      <td>200.000000</td>\n",
       "      <td>200.000000</td>\n",
       "    </tr>\n",
       "    <tr>\n",
       "      <th>mean</th>\n",
       "      <td>-0.031075</td>\n",
       "      <td>1.406665</td>\n",
       "      <td>0.273785</td>\n",
       "      <td>0.382568</td>\n",
       "      <td>1.437740</td>\n",
       "      <td>0.304860</td>\n",
       "      <td>0.413643</td>\n",
       "    </tr>\n",
       "    <tr>\n",
       "      <th>std</th>\n",
       "      <td>1.082906</td>\n",
       "      <td>0.519118</td>\n",
       "      <td>0.752042</td>\n",
       "      <td>0.843772</td>\n",
       "      <td>0.962182</td>\n",
       "      <td>0.724381</td>\n",
       "      <td>0.734997</td>\n",
       "    </tr>\n",
       "    <tr>\n",
       "      <th>min</th>\n",
       "      <td>-2.268306</td>\n",
       "      <td>-0.568638</td>\n",
       "      <td>-1.496632</td>\n",
       "      <td>-1.717174</td>\n",
       "      <td>-0.028912</td>\n",
       "      <td>-2.110340</td>\n",
       "      <td>-1.954732</td>\n",
       "    </tr>\n",
       "    <tr>\n",
       "      <th>25%</th>\n",
       "      <td>-0.714113</td>\n",
       "      <td>1.189102</td>\n",
       "      <td>-0.307636</td>\n",
       "      <td>-0.188857</td>\n",
       "      <td>0.725083</td>\n",
       "      <td>-0.152275</td>\n",
       "      <td>-0.069230</td>\n",
       "    </tr>\n",
       "    <tr>\n",
       "      <th>50%</th>\n",
       "      <td>0.043865</td>\n",
       "      <td>1.582806</td>\n",
       "      <td>0.311675</td>\n",
       "      <td>0.437331</td>\n",
       "      <td>1.286778</td>\n",
       "      <td>0.172543</td>\n",
       "      <td>0.279640</td>\n",
       "    </tr>\n",
       "    <tr>\n",
       "      <th>75%</th>\n",
       "      <td>0.769696</td>\n",
       "      <td>1.783020</td>\n",
       "      <td>0.882153</td>\n",
       "      <td>0.995918</td>\n",
       "      <td>1.966600</td>\n",
       "      <td>0.775642</td>\n",
       "      <td>0.831820</td>\n",
       "    </tr>\n",
       "    <tr>\n",
       "      <th>max</th>\n",
       "      <td>1.906958</td>\n",
       "      <td>1.988246</td>\n",
       "      <td>1.784922</td>\n",
       "      <td>1.877474</td>\n",
       "      <td>3.987686</td>\n",
       "      <td>2.920750</td>\n",
       "      <td>3.081417</td>\n",
       "    </tr>\n",
       "  </tbody>\n",
       "</table>\n",
       "</div>"
      ],
      "text/plain": [
       "         baseline    pop_best        mean      median  improvement_max  \\\n",
       "count  200.000000  200.000000  200.000000  200.000000       200.000000   \n",
       "mean    -0.031075    1.406665    0.273785    0.382568         1.437740   \n",
       "std      1.082906    0.519118    0.752042    0.843772         0.962182   \n",
       "min     -2.268306   -0.568638   -1.496632   -1.717174        -0.028912   \n",
       "25%     -0.714113    1.189102   -0.307636   -0.188857         0.725083   \n",
       "50%      0.043865    1.582806    0.311675    0.437331         1.286778   \n",
       "75%      0.769696    1.783020    0.882153    0.995918         1.966600   \n",
       "max      1.906958    1.988246    1.784922    1.877474         3.987686   \n",
       "\n",
       "       improvement_mean  improvement_median  \n",
       "count        200.000000          200.000000  \n",
       "mean           0.304860            0.413643  \n",
       "std            0.724381            0.734997  \n",
       "min           -2.110340           -1.954732  \n",
       "25%           -0.152275           -0.069230  \n",
       "50%            0.172543            0.279640  \n",
       "75%            0.775642            0.831820  \n",
       "max            2.920750            3.081417  "
      ]
     },
     "execution_count": 157,
     "metadata": {},
     "output_type": "execute_result"
    }
   ],
   "source": [
    "data = get_wandb_logs(api, \"seris/inference-diffusion-noise-optim/skl06y3a\")\n",
    "compute_deltas(data, up_to_step=15).describe()"
   ]
  },
  {
   "cell_type": "markdown",
   "id": "a92d86af",
   "metadata": {},
   "source": [
    "### HPSv2"
   ]
  },
  {
   "cell_type": "code",
   "execution_count": null,
   "id": "d6651b2c",
   "metadata": {},
   "outputs": [],
   "source": [
    "data = get_wandb_logs(api, \"seris/inference-diffusion-noise-optim/bzquoitz\")\n",
    "compute_deltas(data, up_to_step=15).describe()"
   ]
  },
  {
   "cell_type": "markdown",
   "id": "7b7681af",
   "metadata": {},
   "source": [
    "### CLIP"
   ]
  },
  {
   "cell_type": "code",
   "execution_count": null,
   "id": "b56f67e8",
   "metadata": {},
   "outputs": [],
   "source": [
    "data = get_wandb_logs(api, \"seris/inference-diffusion-noise-optim/bfzpae40\")\n",
    "compute_deltas(data, up_to_step=15).describe()"
   ]
  },
  {
   "cell_type": "markdown",
   "id": "77ee79ae",
   "metadata": {},
   "source": [
    "### JPEG"
   ]
  },
  {
   "cell_type": "code",
   "execution_count": null,
   "id": "308f8bb7",
   "metadata": {},
   "outputs": [],
   "source": [
    "data = get_wandb_logs(api, \"seris/inference-diffusion-noise-optim/miy93gst\")\n",
    "compute_deltas(data, up_to_step=15, max_or_min=\"min\").describe()"
   ]
  },
  {
   "cell_type": "markdown",
   "id": "0c45f6ab",
   "metadata": {},
   "source": [
    "## SD Zero-order Img Reward"
   ]
  },
  {
   "cell_type": "markdown",
   "id": "f5099dab",
   "metadata": {},
   "source": [
    "### Img Reward"
   ]
  },
  {
   "cell_type": "code",
   "execution_count": 158,
   "id": "09f7425d",
   "metadata": {},
   "outputs": [
    {
     "data": {
      "text/html": [
       "<div>\n",
       "<style scoped>\n",
       "    .dataframe tbody tr th:only-of-type {\n",
       "        vertical-align: middle;\n",
       "    }\n",
       "\n",
       "    .dataframe tbody tr th {\n",
       "        vertical-align: top;\n",
       "    }\n",
       "\n",
       "    .dataframe thead th {\n",
       "        text-align: right;\n",
       "    }\n",
       "</style>\n",
       "<table border=\"1\" class=\"dataframe\">\n",
       "  <thead>\n",
       "    <tr style=\"text-align: right;\">\n",
       "      <th></th>\n",
       "      <th>baseline</th>\n",
       "      <th>pop_best</th>\n",
       "      <th>mean</th>\n",
       "      <th>median</th>\n",
       "      <th>improvement_max</th>\n",
       "      <th>improvement_mean</th>\n",
       "      <th>improvement_median</th>\n",
       "    </tr>\n",
       "  </thead>\n",
       "  <tbody>\n",
       "    <tr>\n",
       "      <th>count</th>\n",
       "      <td>200.000000</td>\n",
       "      <td>200.000000</td>\n",
       "      <td>200.000000</td>\n",
       "      <td>200.000000</td>\n",
       "      <td>200.000000</td>\n",
       "      <td>200.000000</td>\n",
       "      <td>200.000000</td>\n",
       "    </tr>\n",
       "    <tr>\n",
       "      <th>mean</th>\n",
       "      <td>0.035915</td>\n",
       "      <td>1.454864</td>\n",
       "      <td>0.820133</td>\n",
       "      <td>0.965780</td>\n",
       "      <td>1.418948</td>\n",
       "      <td>0.784218</td>\n",
       "      <td>0.929865</td>\n",
       "    </tr>\n",
       "    <tr>\n",
       "      <th>std</th>\n",
       "      <td>1.058178</td>\n",
       "      <td>0.529670</td>\n",
       "      <td>0.704283</td>\n",
       "      <td>0.733212</td>\n",
       "      <td>0.990894</td>\n",
       "      <td>0.844804</td>\n",
       "      <td>0.945048</td>\n",
       "    </tr>\n",
       "    <tr>\n",
       "      <th>min</th>\n",
       "      <td>-2.229451</td>\n",
       "      <td>-0.407780</td>\n",
       "      <td>-1.401736</td>\n",
       "      <td>-1.531963</td>\n",
       "      <td>0.078075</td>\n",
       "      <td>-0.672914</td>\n",
       "      <td>-0.474530</td>\n",
       "    </tr>\n",
       "    <tr>\n",
       "      <th>25%</th>\n",
       "      <td>-0.672078</td>\n",
       "      <td>1.237632</td>\n",
       "      <td>0.330920</td>\n",
       "      <td>0.453183</td>\n",
       "      <td>0.625569</td>\n",
       "      <td>0.138108</td>\n",
       "      <td>0.226298</td>\n",
       "    </tr>\n",
       "    <tr>\n",
       "      <th>50%</th>\n",
       "      <td>0.137491</td>\n",
       "      <td>1.673038</td>\n",
       "      <td>0.893824</td>\n",
       "      <td>1.093121</td>\n",
       "      <td>1.203078</td>\n",
       "      <td>0.568623</td>\n",
       "      <td>0.668256</td>\n",
       "    </tr>\n",
       "    <tr>\n",
       "      <th>75%</th>\n",
       "      <td>0.847085</td>\n",
       "      <td>1.851148</td>\n",
       "      <td>1.400938</td>\n",
       "      <td>1.563997</td>\n",
       "      <td>2.002062</td>\n",
       "      <td>1.249367</td>\n",
       "      <td>1.396598</td>\n",
       "    </tr>\n",
       "    <tr>\n",
       "      <th>max</th>\n",
       "      <td>1.876520</td>\n",
       "      <td>2.001970</td>\n",
       "      <td>1.966297</td>\n",
       "      <td>1.976373</td>\n",
       "      <td>3.984655</td>\n",
       "      <td>3.532083</td>\n",
       "      <td>3.745600</td>\n",
       "    </tr>\n",
       "  </tbody>\n",
       "</table>\n",
       "</div>"
      ],
      "text/plain": [
       "         baseline    pop_best        mean      median  improvement_max  \\\n",
       "count  200.000000  200.000000  200.000000  200.000000       200.000000   \n",
       "mean     0.035915    1.454864    0.820133    0.965780         1.418948   \n",
       "std      1.058178    0.529670    0.704283    0.733212         0.990894   \n",
       "min     -2.229451   -0.407780   -1.401736   -1.531963         0.078075   \n",
       "25%     -0.672078    1.237632    0.330920    0.453183         0.625569   \n",
       "50%      0.137491    1.673038    0.893824    1.093121         1.203078   \n",
       "75%      0.847085    1.851148    1.400938    1.563997         2.002062   \n",
       "max      1.876520    2.001970    1.966297    1.976373         3.984655   \n",
       "\n",
       "       improvement_mean  improvement_median  \n",
       "count        200.000000          200.000000  \n",
       "mean           0.784218            0.929865  \n",
       "std            0.844804            0.945048  \n",
       "min           -0.672914           -0.474530  \n",
       "25%            0.138108            0.226298  \n",
       "50%            0.568623            0.668256  \n",
       "75%            1.249367            1.396598  \n",
       "max            3.532083            3.745600  "
      ]
     },
     "execution_count": 158,
     "metadata": {},
     "output_type": "execute_result"
    }
   ],
   "source": [
    "data = get_wandb_logs(api, \"seris/inference-diffusion-noise-optim/4ghfz8nm\")\n",
    "compute_deltas(data, up_to_step=15).describe()"
   ]
  },
  {
   "cell_type": "markdown",
   "id": "eac4a28c",
   "metadata": {},
   "source": [
    "### HPSv2"
   ]
  },
  {
   "cell_type": "code",
   "execution_count": null,
   "id": "390f3575",
   "metadata": {},
   "outputs": [],
   "source": [
    "data = get_wandb_logs(api, \"pjajal/inference-diffusion-noise-optim/rwijixwm\")\n",
    "compute_deltas(data, up_to_step=15).describe()"
   ]
  },
  {
   "cell_type": "markdown",
   "id": "4826af61",
   "metadata": {},
   "source": [
    "### CLIP"
   ]
  },
  {
   "cell_type": "code",
   "execution_count": null,
   "id": "17aaf6ae",
   "metadata": {},
   "outputs": [],
   "source": [
    "data = get_wandb_logs(api, \"pjajal/inference-diffusion-noise-optim/ullx2qou\")\n",
    "compute_deltas(data, up_to_step=15).describe()"
   ]
  },
  {
   "cell_type": "markdown",
   "id": "eb37e78c",
   "metadata": {},
   "source": [
    "### JPEG"
   ]
  },
  {
   "cell_type": "code",
   "execution_count": null,
   "id": "da54f3bb",
   "metadata": {},
   "outputs": [],
   "source": [
    "data = get_wandb_logs(api, \"seris/inference-diffusion-noise-optim/gz3b6q2k\")\n",
    "compute_deltas(data, up_to_step=15, max_or_min=\"min\").describe()"
   ]
  },
  {
   "cell_type": "markdown",
   "id": "06ef2cdc",
   "metadata": {},
   "source": [
    "## DNO"
   ]
  },
  {
   "cell_type": "markdown",
   "id": "8e437490",
   "metadata": {},
   "source": [
    "### Img Reward"
   ]
  },
  {
   "cell_type": "code",
   "execution_count": null,
   "id": "39a7e9f8",
   "metadata": {},
   "outputs": [],
   "source": [
    "data = get_wandb_logs(api, \"pjajal/inference-dno/9vis1gzw\")\n",
    "compute_deltas_dnos(data, up_to_step=15).describe()"
   ]
  },
  {
   "cell_type": "markdown",
   "id": "810c1a39",
   "metadata": {},
   "source": [
    "### HPSv2"
   ]
  },
  {
   "cell_type": "code",
   "execution_count": null,
   "id": "6cd6924a",
   "metadata": {},
   "outputs": [],
   "source": [
    "data = get_wandb_logs(api, \"pjajal/inference-dno/h26tfx2i\")\n",
    "compute_deltas_dnos(data, up_to_step=15).describe()"
   ]
  },
  {
   "cell_type": "markdown",
   "id": "1c2a9fc2",
   "metadata": {},
   "source": [
    "### CLIP"
   ]
  },
  {
   "cell_type": "code",
   "execution_count": null,
   "id": "47ee3eb7",
   "metadata": {},
   "outputs": [],
   "source": [
    "data = get_wandb_logs(api, \"pjajal/inference-dno/c3otmlnd\")\n",
    "compute_deltas_dnos(data, up_to_step=15).describe()"
   ]
  },
  {
   "cell_type": "markdown",
   "id": "b67b5113",
   "metadata": {},
   "source": [
    "### JPEG"
   ]
  },
  {
   "cell_type": "code",
   "execution_count": null,
   "id": "943498f7",
   "metadata": {},
   "outputs": [],
   "source": [
    "data = get_wandb_logs(api, \"pjajal/inference-dno/6enuouop\")\n",
    "compute_deltas_dnos(data, up_to_step=15, max_or_min=\"min\").describe()"
   ]
  },
  {
   "cell_type": "markdown",
   "id": "c887043f",
   "metadata": {},
   "source": [
    "## SD Cosyne"
   ]
  },
  {
   "cell_type": "markdown",
   "id": "f607794b",
   "metadata": {},
   "source": [
    "### Img Reward"
   ]
  },
  {
   "cell_type": "code",
   "execution_count": null,
   "id": "76fe3cfa",
   "metadata": {},
   "outputs": [],
   "source": [
    "data = get_wandb_logs(api, \"seris/inference-diffusion-noise-optim/p5selqpd\")\n",
    "compute_deltas(data, up_to_step=15).describe()"
   ]
  },
  {
   "cell_type": "markdown",
   "id": "c9fc1f03",
   "metadata": {},
   "source": [
    "### HPSv2"
   ]
  },
  {
   "cell_type": "code",
   "execution_count": null,
   "id": "5bc78a6e",
   "metadata": {},
   "outputs": [],
   "source": [
    "data = get_wandb_logs(api, \"pjajal/inference-diffusion-noise-optim/4p9ka0yv\")\n",
    "compute_deltas(data, up_to_step=15).describe()"
   ]
  },
  {
   "cell_type": "markdown",
   "id": "7c6b0e1d",
   "metadata": {},
   "source": [
    "### CLIP"
   ]
  },
  {
   "cell_type": "code",
   "execution_count": null,
   "id": "f45a3a2f",
   "metadata": {},
   "outputs": [],
   "source": [
    "data = get_wandb_logs(api, \"pjajal/inference-diffusion-noise-optim/lxdmzzpo\")\n",
    "compute_deltas(data, up_to_step=15).describe()"
   ]
  },
  {
   "cell_type": "markdown",
   "id": "f5f70845",
   "metadata": {},
   "source": [
    "### JPEG"
   ]
  },
  {
   "cell_type": "code",
   "execution_count": null,
   "id": "83129d29",
   "metadata": {},
   "outputs": [],
   "source": [
    "data = get_wandb_logs(api, \"pjajal/inference-diffusion-noise-optim/5g3otp1e\")\n",
    "compute_deltas(data, up_to_step=15, max_or_min=\"min\").describe()"
   ]
  },
  {
   "cell_type": "markdown",
   "id": "4f4ab0cf",
   "metadata": {},
   "source": [
    "### Rot"
   ]
  },
  {
   "cell_type": "markdown",
   "id": "2cf9b64f",
   "metadata": {},
   "source": [
    "### Image Reward"
   ]
  },
  {
   "cell_type": "code",
   "execution_count": null,
   "id": "bdab793f",
   "metadata": {},
   "outputs": [],
   "source": [
    "data = get_wandb_logs(api, \"pjajal/inference-diffusion-noise-optim/sspqm9uy\")\n",
    "compute_deltas(data, up_to_step=15).describe()"
   ]
  },
  {
   "cell_type": "markdown",
   "id": "a850fae1",
   "metadata": {},
   "source": [
    "### HPSv2"
   ]
  },
  {
   "cell_type": "code",
   "execution_count": null,
   "id": "52552f41",
   "metadata": {},
   "outputs": [],
   "source": [
    "data = get_wandb_logs(api, \"pjajal/inference-diffusion-noise-optim/ktgd80b8\")\n",
    "compute_deltas(data, up_to_step=15).describe()"
   ]
  },
  {
   "cell_type": "markdown",
   "id": "b89551eb",
   "metadata": {},
   "source": [
    "### CLIP"
   ]
  },
  {
   "cell_type": "code",
   "execution_count": null,
   "id": "4549b6cd",
   "metadata": {},
   "outputs": [],
   "source": [
    "data = get_wandb_logs(api, \"pjajal/inference-diffusion-noise-optim/9f6jrs07\")\n",
    "compute_deltas(data, up_to_step=15).describe()"
   ]
  },
  {
   "cell_type": "markdown",
   "id": "36ad7545",
   "metadata": {},
   "source": [
    "### JPEG"
   ]
  },
  {
   "cell_type": "code",
   "execution_count": null,
   "id": "336ca4df",
   "metadata": {},
   "outputs": [],
   "source": [
    "data = get_wandb_logs(api, \"pjajal/inference-diffusion-noise-optim/xcva28u6\")\n",
    "compute_deltas(data, up_to_step=15, max_or_min=\"min\").describe()"
   ]
  },
  {
   "cell_type": "markdown",
   "id": "c9ef2413",
   "metadata": {},
   "source": [
    "## SD SNES"
   ]
  },
  {
   "cell_type": "markdown",
   "id": "6dbdbe1e",
   "metadata": {},
   "source": [
    "### Img Reward"
   ]
  },
  {
   "cell_type": "code",
   "execution_count": null,
   "id": "61b1a7f7",
   "metadata": {},
   "outputs": [],
   "source": [
    "data = get_wandb_logs(api, \"pjajal/inference-diffusion-noise-optim/yxq7l3oo\")\n",
    "compute_deltas(data, up_to_step=15).describe()"
   ]
  },
  {
   "cell_type": "markdown",
   "id": "da1a00f0",
   "metadata": {},
   "source": [
    "### HPSv2"
   ]
  },
  {
   "cell_type": "code",
   "execution_count": null,
   "id": "c50bad6f",
   "metadata": {},
   "outputs": [],
   "source": [
    "data = get_wandb_logs(api, \"pjajal/inference-diffusion-noise-optim/l1461i7v\")\n",
    "compute_deltas(data, up_to_step=15).describe()"
   ]
  },
  {
   "cell_type": "markdown",
   "id": "ba232c91",
   "metadata": {},
   "source": [
    "### CLIP"
   ]
  },
  {
   "cell_type": "code",
   "execution_count": null,
   "id": "cd697fdd",
   "metadata": {},
   "outputs": [],
   "source": [
    "data = get_wandb_logs(api, \"pjajal/inference-diffusion-noise-optim/j1yao8sr\")\n",
    "compute_deltas(data, up_to_step=15).describe()"
   ]
  },
  {
   "cell_type": "markdown",
   "id": "18472574",
   "metadata": {},
   "source": [
    "### JPEG"
   ]
  },
  {
   "cell_type": "code",
   "execution_count": null,
   "id": "2297ab77",
   "metadata": {},
   "outputs": [],
   "source": [
    "data = get_wandb_logs(api, \"pjajal/inference-diffusion-noise-optim/pw8cxs22\")\n",
    "compute_deltas(data, up_to_step=15, max_or_min=\"min\").describe()"
   ]
  },
  {
   "cell_type": "markdown",
   "id": "e6c6dd18",
   "metadata": {},
   "source": [
    "### Rot"
   ]
  },
  {
   "cell_type": "markdown",
   "id": "8f20de6e",
   "metadata": {},
   "source": [
    "### Image Reward"
   ]
  },
  {
   "cell_type": "code",
   "execution_count": null,
   "id": "a099114c",
   "metadata": {},
   "outputs": [],
   "source": [
    "data = get_wandb_logs(api, \"pjajal/inference-diffusion-noise-optim/91rwif2q\")\n",
    "compute_deltas(data, up_to_step=15).describe()"
   ]
  },
  {
   "cell_type": "markdown",
   "id": "54edfc9c",
   "metadata": {},
   "source": [
    "### HPSv2"
   ]
  },
  {
   "cell_type": "code",
   "execution_count": null,
   "id": "2a13a7b8",
   "metadata": {},
   "outputs": [],
   "source": [
    "data = get_wandb_logs(api, \"pjajal/inference-diffusion-noise-optim/ll4ozqve\")\n",
    "compute_deltas(data, up_to_step=15).describe()"
   ]
  },
  {
   "cell_type": "markdown",
   "id": "52320f97",
   "metadata": {},
   "source": [
    "### CLIP"
   ]
  },
  {
   "cell_type": "code",
   "execution_count": null,
   "id": "3a4c3d4a",
   "metadata": {},
   "outputs": [],
   "source": [
    "data = get_wandb_logs(api, \"pjajal/inference-diffusion-noise-optim/1fdjdwx6\")\n",
    "compute_deltas(data, up_to_step=15).describe()"
   ]
  },
  {
   "cell_type": "markdown",
   "id": "7e99d6b3",
   "metadata": {},
   "source": [
    "### JPEG"
   ]
  },
  {
   "cell_type": "code",
   "execution_count": null,
   "id": "2de15a89",
   "metadata": {},
   "outputs": [],
   "source": [
    "data = get_wandb_logs(api, \"pjajal/inference-diffusion-noise-optim/zmwqycd2\")\n",
    "compute_deltas(data, up_to_step=15, max_or_min=\"min\").describe()"
   ]
  },
  {
   "cell_type": "markdown",
   "id": "5f391f8f",
   "metadata": {},
   "source": [
    "## SD PGPE"
   ]
  },
  {
   "cell_type": "markdown",
   "id": "6c715724",
   "metadata": {},
   "source": [
    "### Img Reward"
   ]
  },
  {
   "cell_type": "code",
   "execution_count": null,
   "id": "c1a31277",
   "metadata": {},
   "outputs": [],
   "source": [
    "data = get_wandb_logs(api, \"pjajal/inference-diffusion-noise-optim/w5sjg6wc\")\n",
    "compute_deltas(data, up_to_step=15).describe()"
   ]
  },
  {
   "cell_type": "markdown",
   "id": "2373ad7d",
   "metadata": {},
   "source": [
    "### HPSv2"
   ]
  },
  {
   "cell_type": "code",
   "execution_count": null,
   "id": "4ddd7d42",
   "metadata": {},
   "outputs": [],
   "source": [
    "data = get_wandb_logs(api, \"pjajal/inference-diffusion-noise-optim/5c0hh9jn\")\n",
    "compute_deltas(data, up_to_step=15).describe()"
   ]
  },
  {
   "cell_type": "markdown",
   "id": "9e0dae36",
   "metadata": {},
   "source": [
    "### CLIP"
   ]
  },
  {
   "cell_type": "code",
   "execution_count": null,
   "id": "4a21fde2",
   "metadata": {},
   "outputs": [],
   "source": [
    "data = get_wandb_logs(api, \"pjajal/inference-diffusion-noise-optim/jd8c8l67\")\n",
    "compute_deltas(data, up_to_step=15).describe()"
   ]
  },
  {
   "cell_type": "markdown",
   "id": "11de0c1c",
   "metadata": {},
   "source": [
    "### JPEG"
   ]
  },
  {
   "cell_type": "code",
   "execution_count": null,
   "id": "1f1bf103",
   "metadata": {},
   "outputs": [],
   "source": [
    "data = get_wandb_logs(api, \"pjajal/inference-diffusion-noise-optim/1wo6mnfn\")\n",
    "compute_deltas(data, up_to_step=15, max_or_min=\"min\").describe()"
   ]
  },
  {
   "cell_type": "markdown",
   "id": "a825edf9",
   "metadata": {},
   "source": [
    "### Rot"
   ]
  },
  {
   "cell_type": "markdown",
   "id": "538d03c2",
   "metadata": {},
   "source": [
    "### Image Reward"
   ]
  },
  {
   "cell_type": "code",
   "execution_count": null,
   "id": "229115a6",
   "metadata": {},
   "outputs": [],
   "source": [
    "data = get_wandb_logs(api, \"pjajal/inference-diffusion-noise-optim/heiropgw\")\n",
    "compute_deltas(data, up_to_step=15).describe()"
   ]
  },
  {
   "cell_type": "markdown",
   "id": "ad9ed683",
   "metadata": {},
   "source": [
    "### CLIP"
   ]
  },
  {
   "cell_type": "code",
   "execution_count": null,
   "id": "6238a79d",
   "metadata": {},
   "outputs": [],
   "source": [
    "data = get_wandb_logs(api, \"pjajal/inference-diffusion-noise-optim/f4709ql9\")\n",
    "compute_deltas(data, up_to_step=15).describe()"
   ]
  },
  {
   "cell_type": "markdown",
   "id": "5e3c7742",
   "metadata": {},
   "source": [
    "### HPSv2"
   ]
  },
  {
   "cell_type": "code",
   "execution_count": null,
   "id": "a41598e6",
   "metadata": {},
   "outputs": [],
   "source": [
    "data = get_wandb_logs(api, \"pjajal/inference-diffusion-noise-optim/8el737q9\")\n",
    "compute_deltas(data, up_to_step=15).describe()"
   ]
  },
  {
   "cell_type": "markdown",
   "id": "6f6ba2a3",
   "metadata": {},
   "source": [
    "### JPEG"
   ]
  },
  {
   "cell_type": "code",
   "execution_count": null,
   "id": "136e5363",
   "metadata": {},
   "outputs": [],
   "source": [
    "data = get_wandb_logs(api, \"pjajal/inference-diffusion-noise-optim/k3sgr4xu\")\n",
    "compute_deltas(data, up_to_step=15, max_or_min=\"min\").describe()"
   ]
  },
  {
   "cell_type": "markdown",
   "id": "43f3ccff",
   "metadata": {},
   "source": [
    "# Open Image Preferences"
   ]
  },
  {
   "cell_type": "markdown",
   "id": "23d6b739",
   "metadata": {},
   "source": [
    "## SD3"
   ]
  },
  {
   "cell_type": "markdown",
   "id": "8e9174a4",
   "metadata": {},
   "source": [
    "### Random"
   ]
  },
  {
   "cell_type": "markdown",
   "id": "58011502",
   "metadata": {},
   "source": [
    "#### CLIP"
   ]
  },
  {
   "cell_type": "code",
   "execution_count": null,
   "id": "e87c4ada",
   "metadata": {},
   "outputs": [],
   "source": [
    "data = get_wandb_logs(api, \"pjajal/inference-diffusion-noise-optim/pym27hnm\")\n",
    "compute_deltas(data, up_to_step=15, max_or_min=\"max\").describe()"
   ]
  },
  {
   "cell_type": "markdown",
   "id": "b5dfde97",
   "metadata": {},
   "source": [
    "#### ImageReward"
   ]
  },
  {
   "cell_type": "code",
   "execution_count": null,
   "id": "ddd9d1e3",
   "metadata": {},
   "outputs": [],
   "source": [
    "data = get_wandb_logs(api, \"pjajal/inference-diffusion-noise-optim/ddwgfeu6\")\n",
    "compute_deltas(data, up_to_step=15, max_or_min=\"max\").describe()"
   ]
  },
  {
   "cell_type": "markdown",
   "id": "48a1fefa",
   "metadata": {},
   "source": [
    "### Zero-Order"
   ]
  },
  {
   "cell_type": "markdown",
   "id": "68f1c7de",
   "metadata": {},
   "source": [
    "#### CLIP"
   ]
  },
  {
   "cell_type": "code",
   "execution_count": null,
   "id": "501274ec",
   "metadata": {},
   "outputs": [],
   "source": [
    "data = get_wandb_logs(api, \"pjajal/inference-diffusion-noise-optim/cvxomgxz\")\n",
    "compute_deltas(data, up_to_step=15, max_or_min=\"max\").describe()"
   ]
  },
  {
   "cell_type": "markdown",
   "id": "c9df9155",
   "metadata": {},
   "source": [
    "#### ImageReward"
   ]
  },
  {
   "cell_type": "code",
   "execution_count": null,
   "id": "4ce76877",
   "metadata": {},
   "outputs": [],
   "source": [
    "data = get_wandb_logs(api, \"pjajal/inference-diffusion-noise-optim/2621vyt4\")\n",
    "compute_deltas(data, up_to_step=15, max_or_min=\"max\").describe()"
   ]
  },
  {
   "cell_type": "markdown",
   "id": "788c4407",
   "metadata": {},
   "source": [
    "### CoSyne"
   ]
  },
  {
   "cell_type": "markdown",
   "id": "1be0c5d0",
   "metadata": {},
   "source": [
    "#### CLIP"
   ]
  },
  {
   "cell_type": "code",
   "execution_count": null,
   "id": "6d6501fc",
   "metadata": {},
   "outputs": [],
   "source": [
    "data = get_wandb_logs(api, \"pjajal/inference-diffusion-noise-optim/wg7e1kib\")\n",
    "compute_deltas(data, up_to_step=15, max_or_min=\"max\").describe()"
   ]
  },
  {
   "cell_type": "markdown",
   "id": "ffb43bec",
   "metadata": {},
   "source": [
    "#### ImageReward"
   ]
  },
  {
   "cell_type": "code",
   "execution_count": null,
   "id": "cfc10be0",
   "metadata": {},
   "outputs": [],
   "source": [
    "data = get_wandb_logs(api, \"pjajal/inference-diffusion-noise-optim/rwouqy0p\")\n",
    "compute_deltas(data, up_to_step=15, max_or_min=\"max\").describe()"
   ]
  },
  {
   "cell_type": "markdown",
   "id": "7331fcca",
   "metadata": {},
   "source": [
    "### SNES"
   ]
  },
  {
   "cell_type": "markdown",
   "id": "d983ae88",
   "metadata": {},
   "source": [
    "#### CLIP"
   ]
  },
  {
   "cell_type": "code",
   "execution_count": null,
   "id": "68931db7",
   "metadata": {},
   "outputs": [],
   "source": [
    "data = get_wandb_logs(api, \"pjajal/inference-diffusion-noise-optim/tp90h3fv\")\n",
    "compute_deltas(data, up_to_step=15, max_or_min=\"max\").describe()"
   ]
  },
  {
   "cell_type": "markdown",
   "id": "da56c32a",
   "metadata": {},
   "source": [
    "#### ImageReward"
   ]
  },
  {
   "cell_type": "code",
   "execution_count": null,
   "id": "8b8b9e73",
   "metadata": {},
   "outputs": [],
   "source": [
    "data = get_wandb_logs(api, \"pjajal/inference-diffusion-noise-optim/iq0vlq8v\")\n",
    "compute_deltas(data, up_to_step=15, max_or_min=\"max\").describe()"
   ]
  },
  {
   "cell_type": "markdown",
   "id": "97320e06",
   "metadata": {},
   "source": [
    "### PGPE"
   ]
  },
  {
   "cell_type": "markdown",
   "id": "f640551e",
   "metadata": {},
   "source": [
    "#### CLIP"
   ]
  },
  {
   "cell_type": "code",
   "execution_count": null,
   "id": "e5c25087",
   "metadata": {},
   "outputs": [],
   "source": [
    "data = get_wandb_logs(api, \"pjajal/inference-diffusion-noise-optim/lovj86kc\")\n",
    "compute_deltas(data, up_to_step=15, max_or_min=\"max\").describe()"
   ]
  },
  {
   "cell_type": "markdown",
   "id": "7d1ebf35",
   "metadata": {},
   "source": [
    "#### ImageReward"
   ]
  },
  {
   "cell_type": "code",
   "execution_count": null,
   "id": "e9ce2a83",
   "metadata": {},
   "outputs": [],
   "source": [
    "data = get_wandb_logs(api, \"pjajal/inference-diffusion-noise-optim/3uvnm0gm\")\n",
    "compute_deltas(data, up_to_step=15, max_or_min=\"max\").describe()"
   ]
  },
  {
   "cell_type": "markdown",
   "id": "dbd32f09",
   "metadata": {},
   "source": [
    "## PixArt"
   ]
  },
  {
   "cell_type": "markdown",
   "id": "906be89e",
   "metadata": {},
   "source": [
    "### Random"
   ]
  },
  {
   "cell_type": "markdown",
   "id": "06f6e8db",
   "metadata": {},
   "source": [
    "#### CLIP"
   ]
  },
  {
   "cell_type": "code",
   "execution_count": null,
   "id": "6bab7ad3",
   "metadata": {},
   "outputs": [],
   "source": [
    "data = get_wandb_logs(api, \"seris/inference-diffusion-noise-optim/huuj70g6\")\n",
    "compute_deltas(data, up_to_step=15, max_or_min=\"max\").describe()"
   ]
  },
  {
   "cell_type": "markdown",
   "id": "27d120e3",
   "metadata": {},
   "source": [
    "#### ImageReward"
   ]
  },
  {
   "cell_type": "code",
   "execution_count": null,
   "id": "46e1b011",
   "metadata": {},
   "outputs": [],
   "source": [
    "data = get_wandb_logs(api, \"seris/inference-diffusion-noise-optim/0q4jjz0r\")\n",
    "compute_deltas(data, up_to_step=15, max_or_min=\"max\").describe()"
   ]
  },
  {
   "cell_type": "markdown",
   "id": "8c334510",
   "metadata": {},
   "source": [
    "### Zero-Order"
   ]
  },
  {
   "cell_type": "markdown",
   "id": "e78412bd",
   "metadata": {},
   "source": [
    "#### CLIP"
   ]
  },
  {
   "cell_type": "code",
   "execution_count": null,
   "id": "dee4b5fd",
   "metadata": {},
   "outputs": [],
   "source": [
    "data = get_wandb_logs(api, \"seris/inference-diffusion-noise-optim/cxkdtse9\")\n",
    "compute_deltas(data, up_to_step=15, max_or_min=\"max\").describe()"
   ]
  },
  {
   "cell_type": "markdown",
   "id": "1adf66eb",
   "metadata": {},
   "source": [
    "#### ImageReward"
   ]
  },
  {
   "cell_type": "code",
   "execution_count": null,
   "id": "6d59d620",
   "metadata": {},
   "outputs": [],
   "source": [
    "data = get_wandb_logs(api, \"seris/inference-diffusion-noise-optim/ndlxn1i8\")\n",
    "compute_deltas(data, up_to_step=15, max_or_min=\"max\").describe()"
   ]
  },
  {
   "cell_type": "markdown",
   "id": "04377d8e",
   "metadata": {},
   "source": [
    "### CoSyne"
   ]
  },
  {
   "cell_type": "markdown",
   "id": "779d5645",
   "metadata": {},
   "source": [
    "#### CLIP"
   ]
  },
  {
   "cell_type": "code",
   "execution_count": null,
   "id": "45ae607f",
   "metadata": {},
   "outputs": [],
   "source": [
    "data = get_wandb_logs(api, \"seris/inference-diffusion-noise-optim/id3fc40g\")\n",
    "compute_deltas(data, up_to_step=15, max_or_min=\"max\").describe()"
   ]
  },
  {
   "cell_type": "markdown",
   "id": "0bf91fc7",
   "metadata": {},
   "source": [
    "#### ImageReward"
   ]
  },
  {
   "cell_type": "code",
   "execution_count": null,
   "id": "ef434ad3",
   "metadata": {},
   "outputs": [],
   "source": [
    "data = get_wandb_logs(api, \"seris/inference-diffusion-noise-optim/en5e7do2\")\n",
    "compute_deltas(data, up_to_step=15, max_or_min=\"max\").describe()"
   ]
  },
  {
   "cell_type": "markdown",
   "id": "0d292091",
   "metadata": {},
   "source": [
    "### SNES"
   ]
  },
  {
   "cell_type": "markdown",
   "id": "52b14def",
   "metadata": {},
   "source": [
    "#### CLIP"
   ]
  },
  {
   "cell_type": "code",
   "execution_count": null,
   "id": "14da5ce8",
   "metadata": {},
   "outputs": [],
   "source": [
    "data = get_wandb_logs(api, \"seris/inference-diffusion-noise-optim/4z67tfcf\")\n",
    "compute_deltas(data, up_to_step=15, max_or_min=\"max\").describe()"
   ]
  },
  {
   "cell_type": "markdown",
   "id": "73874194",
   "metadata": {},
   "source": [
    "#### ImageReward"
   ]
  },
  {
   "cell_type": "code",
   "execution_count": null,
   "id": "bd834bc4",
   "metadata": {},
   "outputs": [],
   "source": [
    "data = get_wandb_logs(api, \"seris/inference-diffusion-noise-optim/2ip5kgez\")\n",
    "compute_deltas(data, up_to_step=15, max_or_min=\"max\").describe()"
   ]
  },
  {
   "cell_type": "markdown",
   "id": "00db42a8",
   "metadata": {},
   "source": [
    "### PGPE"
   ]
  },
  {
   "cell_type": "markdown",
   "id": "29e68de8",
   "metadata": {},
   "source": [
    "#### CLIP"
   ]
  },
  {
   "cell_type": "code",
   "execution_count": null,
   "id": "2a6e7ca8",
   "metadata": {},
   "outputs": [],
   "source": [
    "data = get_wandb_logs(api, \"seris/inference-diffusion-noise-optim/qp92xk2i\")\n",
    "compute_deltas(data, up_to_step=15, max_or_min=\"max\").describe()"
   ]
  },
  {
   "cell_type": "markdown",
   "id": "a184f591",
   "metadata": {},
   "source": [
    "#### ImageReward"
   ]
  },
  {
   "cell_type": "code",
   "execution_count": null,
   "id": "7b856152",
   "metadata": {},
   "outputs": [],
   "source": [
    "data = get_wandb_logs(api, \"seris/inference-diffusion-noise-optim/fvunpi6b\")\n",
    "compute_deltas(data, up_to_step=15, max_or_min=\"max\").describe()"
   ]
  },
  {
   "cell_type": "markdown",
   "id": "3f31cf0e",
   "metadata": {},
   "source": [
    "## SD"
   ]
  },
  {
   "cell_type": "markdown",
   "id": "aa425d82",
   "metadata": {},
   "source": [
    "### Random"
   ]
  },
  {
   "cell_type": "markdown",
   "id": "94a04b9b",
   "metadata": {},
   "source": [
    "#### CLIP"
   ]
  },
  {
   "cell_type": "code",
   "execution_count": null,
   "id": "6cc5fff9",
   "metadata": {},
   "outputs": [],
   "source": [
    "data = get_wandb_logs(api, \"pjajal/inference-diffusion-noise-optim/uy53odzi\")\n",
    "compute_deltas(data, up_to_step=15, max_or_min=\"max\").describe()"
   ]
  },
  {
   "cell_type": "markdown",
   "id": "c36f19e3",
   "metadata": {},
   "source": [
    "#### ImageReward"
   ]
  },
  {
   "cell_type": "code",
   "execution_count": null,
   "id": "c76b3e95",
   "metadata": {},
   "outputs": [],
   "source": [
    "data = get_wandb_logs(api, \"pjajal/inference-diffusion-noise-optim/z9hzxb7n\")\n",
    "compute_deltas(data, up_to_step=15, max_or_min=\"max\").describe()"
   ]
  },
  {
   "cell_type": "markdown",
   "id": "2f9ad524",
   "metadata": {},
   "source": [
    "### Zero-Order"
   ]
  },
  {
   "cell_type": "markdown",
   "id": "c1b9082b",
   "metadata": {},
   "source": [
    "#### CLIP"
   ]
  },
  {
   "cell_type": "code",
   "execution_count": null,
   "id": "9517a5ae",
   "metadata": {},
   "outputs": [],
   "source": [
    "data = get_wandb_logs(api, \"pjajal/inference-diffusion-noise-optim/a44squpo\")\n",
    "compute_deltas(data, up_to_step=15, max_or_min=\"max\").describe()"
   ]
  },
  {
   "cell_type": "markdown",
   "id": "92da9d9c",
   "metadata": {},
   "source": [
    "#### ImageReward"
   ]
  },
  {
   "cell_type": "code",
   "execution_count": null,
   "id": "56013912",
   "metadata": {},
   "outputs": [],
   "source": [
    "data = get_wandb_logs(api, \"pjajal/inference-diffusion-noise-optim/lguscqhu\")\n",
    "compute_deltas(data, up_to_step=15, max_or_min=\"max\").describe()"
   ]
  },
  {
   "cell_type": "markdown",
   "id": "79d4515d",
   "metadata": {},
   "source": [
    "### CoSyne"
   ]
  },
  {
   "cell_type": "markdown",
   "id": "b5ca49ea",
   "metadata": {},
   "source": [
    "#### CLIP"
   ]
  },
  {
   "cell_type": "code",
   "execution_count": null,
   "id": "47493889",
   "metadata": {},
   "outputs": [],
   "source": [
    "data = get_wandb_logs(api, \"pjajal/inference-diffusion-noise-optim/egyrhyxk\")\n",
    "compute_deltas(data, up_to_step=15, max_or_min=\"max\").describe()"
   ]
  },
  {
   "cell_type": "markdown",
   "id": "120ccfee",
   "metadata": {},
   "source": [
    "#### ImageReward"
   ]
  },
  {
   "cell_type": "code",
   "execution_count": null,
   "id": "008cc038",
   "metadata": {},
   "outputs": [],
   "source": [
    "data = get_wandb_logs(api, \"pjajal/inference-diffusion-noise-optim/vloeu4z3\")\n",
    "compute_deltas(data, up_to_step=15, max_or_min=\"max\").describe()"
   ]
  },
  {
   "cell_type": "markdown",
   "id": "1682f960",
   "metadata": {},
   "source": [
    "### SNES"
   ]
  },
  {
   "cell_type": "markdown",
   "id": "efae7a0f",
   "metadata": {},
   "source": [
    "#### CLIP"
   ]
  },
  {
   "cell_type": "code",
   "execution_count": null,
   "id": "00a7006d",
   "metadata": {},
   "outputs": [],
   "source": [
    "data = get_wandb_logs(api, \"pjajal/inference-diffusion-noise-optim/7iiytsny\")\n",
    "compute_deltas(data, up_to_step=15, max_or_min=\"max\").describe()"
   ]
  },
  {
   "cell_type": "markdown",
   "id": "3d2177d4",
   "metadata": {},
   "source": [
    "#### ImageReward"
   ]
  },
  {
   "cell_type": "code",
   "execution_count": null,
   "id": "ec872f33",
   "metadata": {},
   "outputs": [],
   "source": [
    "data = get_wandb_logs(api, \"pjajal/inference-diffusion-noise-optim/pyxzelxn\")\n",
    "compute_deltas(data, up_to_step=15, max_or_min=\"max\").describe()"
   ]
  },
  {
   "cell_type": "markdown",
   "id": "7e46bc52",
   "metadata": {},
   "source": [
    "### PGPE"
   ]
  },
  {
   "cell_type": "markdown",
   "id": "6e901dd0",
   "metadata": {},
   "source": [
    "#### CLIP"
   ]
  },
  {
   "cell_type": "code",
   "execution_count": null,
   "id": "db73db4c",
   "metadata": {},
   "outputs": [],
   "source": [
    "data = get_wandb_logs(api, \"pjajal/inference-diffusion-noise-optim/bt0numtw\")\n",
    "compute_deltas(data, up_to_step=15, max_or_min=\"max\").describe()"
   ]
  },
  {
   "cell_type": "markdown",
   "id": "d293bc56",
   "metadata": {},
   "source": [
    "#### ImageReward"
   ]
  },
  {
   "cell_type": "code",
   "execution_count": null,
   "id": "c9428c65",
   "metadata": {},
   "outputs": [],
   "source": [
    "data = get_wandb_logs(api, \"pjajal/inference-diffusion-noise-optim/s1foby3g\")\n",
    "compute_deltas(data, up_to_step=15, max_or_min=\"max\").describe()"
   ]
  },
  {
   "cell_type": "markdown",
   "id": "efee2c8b",
   "metadata": {},
   "source": [
    "# Steps Ablation"
   ]
  },
  {
   "cell_type": "code",
   "execution_count": null,
   "id": "22a70dd3",
   "metadata": {},
   "outputs": [],
   "source": [
    "def get_step_data(data):\n",
    "    data = data.groupby(\"step\")[\n",
    "        [\n",
    "            \"pop_best_eval\",\n",
    "            \"median_eval\",\n",
    "            \"mean_eval\",\n",
    "            # \"prompt\",\n",
    "            # \"best_img.path\",\n",
    "            # \"running_time\",\n",
    "            # \"memory\",\n",
    "        ]\n",
    "    ].agg([\"mean\", \"std\", \"median\", \"max\", \"min\"])\n",
    "    data.columns = data.columns.map(\"_\".join)\n",
    "    return data"
   ]
  },
  {
   "cell_type": "code",
   "execution_count": null,
   "id": "24c62e76",
   "metadata": {},
   "outputs": [],
   "source": [
    "def get_dno_step_data(data):\n",
    "    data.rename(columns={\"Step\": \"step\", \"Prompt\": \"prompt\"}, inplace=True)\n",
    "    data['pop_best_eval'] = data['Reward']\n",
    "    data['median_eval'] = data['Reward']\n",
    "    data['mean_eval'] = data['Reward']\n",
    "    data = data.groupby(\"step\")[\n",
    "        [\n",
    "            \"pop_best_eval\",\n",
    "            \"median_eval\",\n",
    "            \"mean_eval\",\n",
    "        ]\n",
    "    ].agg([\"mean\", \"std\", \"median\", \"max\", \"min\"])\n",
    "    data.columns = data.columns.map(\"_\".join)\n",
    "    return data"
   ]
  },
  {
   "cell_type": "markdown",
   "id": "4cba62c9",
   "metadata": {},
   "source": [
    "## SD"
   ]
  },
  {
   "cell_type": "markdown",
   "id": "387810e7",
   "metadata": {},
   "source": [
    "### Random"
   ]
  },
  {
   "cell_type": "code",
   "execution_count": null,
   "id": "71a7cd32",
   "metadata": {},
   "outputs": [],
   "source": [
    "data = get_wandb_logs(api, \"pjajal/inference-diffusion-noise-optim-ablation/tos3uoc9\")"
   ]
  },
  {
   "cell_type": "code",
   "execution_count": null,
   "id": "fa19725b",
   "metadata": {},
   "outputs": [],
   "source": [
    "random_step_data = get_step_data(data).reset_index()\n",
    "random_step_data['algorithm'] = \"Random\""
   ]
  },
  {
   "cell_type": "markdown",
   "id": "0d16d3c7",
   "metadata": {},
   "source": [
    "### Zero-Order"
   ]
  },
  {
   "cell_type": "code",
   "execution_count": null,
   "id": "87d86c68",
   "metadata": {},
   "outputs": [],
   "source": [
    "data = get_wandb_logs(api, \"pjajal/inference-diffusion-noise-optim-ablation/mdunyl2u\")"
   ]
  },
  {
   "cell_type": "code",
   "execution_count": null,
   "id": "bb266ef9",
   "metadata": {},
   "outputs": [],
   "source": [
    "zero_order_step_data = get_step_data(data).reset_index()\n",
    "zero_order_step_data['algorithm'] = \"Zero Order\""
   ]
  },
  {
   "cell_type": "markdown",
   "id": "1edf594b",
   "metadata": {},
   "source": [
    "### Cosyne"
   ]
  },
  {
   "cell_type": "code",
   "execution_count": null,
   "id": "043ed2be",
   "metadata": {},
   "outputs": [],
   "source": [
    "data = get_wandb_logs(api, \"pjajal/inference-diffusion-noise-optim-ablation/jbpl4c7s\")"
   ]
  },
  {
   "cell_type": "code",
   "execution_count": null,
   "id": "065c1872",
   "metadata": {},
   "outputs": [],
   "source": [
    "cosyne_step_data = get_step_data(data).reset_index()\n",
    "cosyne_step_data['algorithm'] = \"Cosyne\""
   ]
  },
  {
   "cell_type": "markdown",
   "id": "38db0186",
   "metadata": {},
   "source": [
    "### SNES"
   ]
  },
  {
   "cell_type": "code",
   "execution_count": null,
   "id": "18f4abf3",
   "metadata": {},
   "outputs": [],
   "source": [
    "data = get_wandb_logs(api, \"pjajal/inference-diffusion-noise-optim-ablation/vsv2jra3\")"
   ]
  },
  {
   "cell_type": "code",
   "execution_count": null,
   "id": "55ecd69a",
   "metadata": {},
   "outputs": [],
   "source": [
    "snes_step_data = get_step_data(data).reset_index()\n",
    "snes_step_data['algorithm'] = \"SNES\""
   ]
  },
  {
   "cell_type": "markdown",
   "id": "f3d26add",
   "metadata": {},
   "source": [
    "### PGPE"
   ]
  },
  {
   "cell_type": "code",
   "execution_count": null,
   "id": "0e12b2cc",
   "metadata": {},
   "outputs": [],
   "source": [
    "data = get_wandb_logs(api, \"pjajal/inference-diffusion-noise-optim-ablation/zan3ho1t\")"
   ]
  },
  {
   "cell_type": "code",
   "execution_count": null,
   "id": "f9036fc5",
   "metadata": {},
   "outputs": [],
   "source": [
    "pgpe_step_data = get_step_data(data).reset_index()\n",
    "pgpe_step_data['algorithm'] = \"PGPE\""
   ]
  },
  {
   "cell_type": "code",
   "execution_count": null,
   "id": "55ab8cb3",
   "metadata": {},
   "outputs": [],
   "source": [
    "pd.concat([\n",
    "    random_step_data,\n",
    "    zero_order_step_data,\n",
    "    cosyne_step_data,\n",
    "    snes_step_data,\n",
    "    pgpe_step_data\n",
    "]).to_csv(\"sd_open_img_60_for_steps_ablation1.csv\", index=False)"
   ]
  },
  {
   "cell_type": "code",
   "execution_count": null,
   "id": "932c27a5",
   "metadata": {},
   "outputs": [],
   "source": [
    "data = get_wandb_logs(api, \"pjajal/inference-dno/dcil1pw1\")\n",
    "get_dno_step_data(data)"
   ]
  },
  {
   "cell_type": "code",
   "execution_count": null,
   "id": "c0aec87e",
   "metadata": {},
   "outputs": [],
   "source": []
  }
 ],
 "metadata": {
  "kernelspec": {
   "display_name": "diffusion-traj",
   "language": "python",
   "name": "python3"
  },
  "language_info": {
   "codemirror_mode": {
    "name": "ipython",
    "version": 3
   },
   "file_extension": ".py",
   "mimetype": "text/x-python",
   "name": "python",
   "nbconvert_exporter": "python",
   "pygments_lexer": "ipython3",
   "version": "3.12.0"
  }
 },
 "nbformat": 4,
 "nbformat_minor": 5
}
