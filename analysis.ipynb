{
 "cells": [
  {
   "cell_type": "code",
   "execution_count": 2,
   "id": "93a1af7e",
   "metadata": {},
   "outputs": [],
   "source": [
    "import pandas as pd"
   ]
  },
  {
   "cell_type": "markdown",
   "id": "203ca27a",
   "metadata": {},
   "source": [
    "# SD Cosyne Img Reward"
   ]
  },
  {
   "cell_type": "code",
   "execution_count": 3,
   "id": "da954fad",
   "metadata": {},
   "outputs": [],
   "source": [
    "sd_cosyne_img_reward = pd.read_csv(\"results/evals/sd_cosyne_img_reward/measurements.csv\")\n",
    "sd_cosyne_img_reward['name'] = sd_cosyne_img_reward['img_path'].apply(lambda x: x.split('/')[-1].split('.')[0])"
   ]
  },
  {
   "cell_type": "code",
   "execution_count": 4,
   "id": "a3ed9b33",
   "metadata": {},
   "outputs": [],
   "source": [
    "filtered_df = sd_cosyne_img_reward[~sd_cosyne_img_reward['name'].isin(['max', 'baseline'])].copy()\n",
    "filtered_df['name'] = filtered_df['name'].astype(int)\n",
    "filtered_df = filtered_df.loc[filtered_df['name'].isin(range(17))] # ONLY LOOK AT THE FIRST 16 IMAGES.\n",
    "filtered_df = filtered_df.sort_values(by='name')"
   ]
  },
  {
   "cell_type": "code",
   "execution_count": 5,
   "id": "5d6703fc",
   "metadata": {},
   "outputs": [],
   "source": [
    "data = []\n",
    "for prompt, group in filtered_df.groupby('prompt'):\n",
    "    zero_row = group.loc[group['name'] == 0]\n",
    "    max_row = group.loc[group['img_reward_score'].idxmax()]\n",
    "    delta_img_reward = (max_row['img_reward_score'] - zero_row['img_reward_score']).item()\n",
    "    delta_hpsv_reward = (max_row['hpsv_reward_score'] - zero_row['hpsv_reward_score']).item()\n",
    "    delta_aesthetic_reward = (max_row['aesthetic_reward_score'] - zero_row['aesthetic_reward_score']).item()\n",
    "    delta_clip_reward = (max_row['clip_reward_score'] - zero_row['clip_reward_score']).item()\n",
    "    data.append({\n",
    "        'prompt': prompt,\n",
    "        'delta_img_reward': delta_img_reward,\n",
    "        'delta_clip_reward': delta_clip_reward,\n",
    "        'delta_aesthetic_reward': delta_aesthetic_reward,\n",
    "        'delta_hpsv_reward': delta_hpsv_reward,\n",
    "    })"
   ]
  },
  {
   "cell_type": "code",
   "execution_count": 6,
   "id": "00bece55",
   "metadata": {},
   "outputs": [
    {
     "data": {
      "text/html": [
       "<div>\n",
       "<style scoped>\n",
       "    .dataframe tbody tr th:only-of-type {\n",
       "        vertical-align: middle;\n",
       "    }\n",
       "\n",
       "    .dataframe tbody tr th {\n",
       "        vertical-align: top;\n",
       "    }\n",
       "\n",
       "    .dataframe thead th {\n",
       "        text-align: right;\n",
       "    }\n",
       "</style>\n",
       "<table border=\"1\" class=\"dataframe\">\n",
       "  <thead>\n",
       "    <tr style=\"text-align: right;\">\n",
       "      <th></th>\n",
       "      <th>delta_img_reward</th>\n",
       "      <th>delta_clip_reward</th>\n",
       "      <th>delta_aesthetic_reward</th>\n",
       "      <th>delta_hpsv_reward</th>\n",
       "    </tr>\n",
       "  </thead>\n",
       "  <tbody>\n",
       "    <tr>\n",
       "      <th>count</th>\n",
       "      <td>200.000000</td>\n",
       "      <td>198.000000</td>\n",
       "      <td>200.000000</td>\n",
       "      <td>200.000000</td>\n",
       "    </tr>\n",
       "    <tr>\n",
       "      <th>mean</th>\n",
       "      <td>1.582081</td>\n",
       "      <td>2.885195</td>\n",
       "      <td>0.061938</td>\n",
       "      <td>0.012862</td>\n",
       "    </tr>\n",
       "    <tr>\n",
       "      <th>std</th>\n",
       "      <td>1.023972</td>\n",
       "      <td>4.373580</td>\n",
       "      <td>0.446643</td>\n",
       "      <td>0.013101</td>\n",
       "    </tr>\n",
       "    <tr>\n",
       "      <th>min</th>\n",
       "      <td>0.084769</td>\n",
       "      <td>-10.473164</td>\n",
       "      <td>-1.193415</td>\n",
       "      <td>-0.019300</td>\n",
       "    </tr>\n",
       "    <tr>\n",
       "      <th>25%</th>\n",
       "      <td>0.760760</td>\n",
       "      <td>0.026792</td>\n",
       "      <td>-0.250453</td>\n",
       "      <td>0.004125</td>\n",
       "    </tr>\n",
       "    <tr>\n",
       "      <th>50%</th>\n",
       "      <td>1.383070</td>\n",
       "      <td>1.969116</td>\n",
       "      <td>0.103652</td>\n",
       "      <td>0.012200</td>\n",
       "    </tr>\n",
       "    <tr>\n",
       "      <th>75%</th>\n",
       "      <td>2.244525</td>\n",
       "      <td>5.596532</td>\n",
       "      <td>0.323349</td>\n",
       "      <td>0.020500</td>\n",
       "    </tr>\n",
       "    <tr>\n",
       "      <th>max</th>\n",
       "      <td>4.093665</td>\n",
       "      <td>17.514080</td>\n",
       "      <td>1.332358</td>\n",
       "      <td>0.053000</td>\n",
       "    </tr>\n",
       "  </tbody>\n",
       "</table>\n",
       "</div>"
      ],
      "text/plain": [
       "       delta_img_reward  delta_clip_reward  delta_aesthetic_reward  \\\n",
       "count        200.000000         198.000000              200.000000   \n",
       "mean           1.582081           2.885195                0.061938   \n",
       "std            1.023972           4.373580                0.446643   \n",
       "min            0.084769         -10.473164               -1.193415   \n",
       "25%            0.760760           0.026792               -0.250453   \n",
       "50%            1.383070           1.969116                0.103652   \n",
       "75%            2.244525           5.596532                0.323349   \n",
       "max            4.093665          17.514080                1.332358   \n",
       "\n",
       "       delta_hpsv_reward  \n",
       "count         200.000000  \n",
       "mean            0.012862  \n",
       "std             0.013101  \n",
       "min            -0.019300  \n",
       "25%             0.004125  \n",
       "50%             0.012200  \n",
       "75%             0.020500  \n",
       "max             0.053000  "
      ]
     },
     "execution_count": 6,
     "metadata": {},
     "output_type": "execute_result"
    }
   ],
   "source": [
    "delta_data = pd.DataFrame(data)\n",
    "delta_data.describe()\n"
   ]
  },
  {
   "cell_type": "markdown",
   "id": "c44cbf38",
   "metadata": {},
   "source": [
    "# SD SNES Img Reward"
   ]
  },
  {
   "cell_type": "code",
   "execution_count": 49,
   "id": "f483e0b7",
   "metadata": {},
   "outputs": [],
   "source": [
    "sd_snes_img_reward = pd.read_csv(\"results/evals/sd_snes_img_reward/measurements.csv\")\n",
    "sd_snes_img_reward['name'] = sd_snes_img_reward['img_path'].apply(lambda x: x.split('/')[-1].split('.')[0])"
   ]
  },
  {
   "cell_type": "code",
   "execution_count": null,
   "id": "985b9f16",
   "metadata": {},
   "outputs": [],
   "source": [
    "filtered_df = sd_cosyne_img_reward[~sd_snes_img_reward['name'].isin(['max', 'baseline'])].copy()\n",
    "filtered_df['name'] = filtered_df['name'].astype(int)\n",
    "filtered_df = filtered_df.loc[filtered_df['name'].isin(range(17))] # ONLY LOOK AT THE FIRST 16 IMAGES.\n",
    "filtered_df = filtered_df.sort_values(by='name')"
   ]
  },
  {
   "cell_type": "code",
   "execution_count": null,
   "id": "bcb7a474",
   "metadata": {},
   "outputs": [],
   "source": [
    "data = []\n",
    "for prompt, group in sd_snes_img_reward.groupby('prompt'):\n",
    "    zero_row = group.loc[group['name'] == 0]\n",
    "    max_row = group.loc[group['img_reward_score'].idxmax()]\n",
    "    delta_img_reward = (max_row['img_reward_score'] - zero_row['img_reward_score']).item()\n",
    "    delta_hpsv_reward = (max_row['hpsv_reward_score'] - zero_row['hpsv_reward_score']).item()\n",
    "    delta_aesthetic_reward = (max_row['aesthetic_reward_score'] - zero_row['aesthetic_reward_score']).item()\n",
    "    delta_clip_reward = (max_row['clip_reward_score'] - zero_row['clip_reward_score']).item()\n",
    "    data.append({\n",
    "        'prompt': prompt,\n",
    "        'delta_img_reward': delta_img_reward,\n",
    "        'delta_clip_reward': delta_clip_reward,\n",
    "        'delta_aesthetic_reward': delta_aesthetic_reward,\n",
    "        'delta_hpsv_reward': delta_hpsv_reward,\n",
    "    })"
   ]
  },
  {
   "cell_type": "code",
   "execution_count": 51,
   "id": "f52e3e60",
   "metadata": {},
   "outputs": [
    {
     "data": {
      "text/html": [
       "<div>\n",
       "<style scoped>\n",
       "    .dataframe tbody tr th:only-of-type {\n",
       "        vertical-align: middle;\n",
       "    }\n",
       "\n",
       "    .dataframe tbody tr th {\n",
       "        vertical-align: top;\n",
       "    }\n",
       "\n",
       "    .dataframe thead th {\n",
       "        text-align: right;\n",
       "    }\n",
       "</style>\n",
       "<table border=\"1\" class=\"dataframe\">\n",
       "  <thead>\n",
       "    <tr style=\"text-align: right;\">\n",
       "      <th></th>\n",
       "      <th>delta_img_reward</th>\n",
       "      <th>delta_clip_reward</th>\n",
       "      <th>delta_aesthetic_reward</th>\n",
       "      <th>delta_hpsv_reward</th>\n",
       "    </tr>\n",
       "  </thead>\n",
       "  <tbody>\n",
       "    <tr>\n",
       "      <th>count</th>\n",
       "      <td>200.000000</td>\n",
       "      <td>198.000000</td>\n",
       "      <td>200.000000</td>\n",
       "      <td>200.000000</td>\n",
       "    </tr>\n",
       "    <tr>\n",
       "      <th>mean</th>\n",
       "      <td>1.475520</td>\n",
       "      <td>2.603947</td>\n",
       "      <td>0.049604</td>\n",
       "      <td>0.009237</td>\n",
       "    </tr>\n",
       "    <tr>\n",
       "      <th>std</th>\n",
       "      <td>0.967118</td>\n",
       "      <td>4.202388</td>\n",
       "      <td>0.404115</td>\n",
       "      <td>0.013002</td>\n",
       "    </tr>\n",
       "    <tr>\n",
       "      <th>min</th>\n",
       "      <td>0.090222</td>\n",
       "      <td>-5.922293</td>\n",
       "      <td>-1.225650</td>\n",
       "      <td>-0.019000</td>\n",
       "    </tr>\n",
       "    <tr>\n",
       "      <th>25%</th>\n",
       "      <td>0.709093</td>\n",
       "      <td>-0.447540</td>\n",
       "      <td>-0.223964</td>\n",
       "      <td>0.000300</td>\n",
       "    </tr>\n",
       "    <tr>\n",
       "      <th>50%</th>\n",
       "      <td>1.316835</td>\n",
       "      <td>1.943671</td>\n",
       "      <td>0.073169</td>\n",
       "      <td>0.007950</td>\n",
       "    </tr>\n",
       "    <tr>\n",
       "      <th>75%</th>\n",
       "      <td>2.071716</td>\n",
       "      <td>5.276017</td>\n",
       "      <td>0.317035</td>\n",
       "      <td>0.016275</td>\n",
       "    </tr>\n",
       "    <tr>\n",
       "      <th>max</th>\n",
       "      <td>4.090756</td>\n",
       "      <td>17.252880</td>\n",
       "      <td>1.047339</td>\n",
       "      <td>0.051000</td>\n",
       "    </tr>\n",
       "  </tbody>\n",
       "</table>\n",
       "</div>"
      ],
      "text/plain": [
       "       delta_img_reward  delta_clip_reward  delta_aesthetic_reward  \\\n",
       "count        200.000000         198.000000              200.000000   \n",
       "mean           1.475520           2.603947                0.049604   \n",
       "std            0.967118           4.202388                0.404115   \n",
       "min            0.090222          -5.922293               -1.225650   \n",
       "25%            0.709093          -0.447540               -0.223964   \n",
       "50%            1.316835           1.943671                0.073169   \n",
       "75%            2.071716           5.276017                0.317035   \n",
       "max            4.090756          17.252880                1.047339   \n",
       "\n",
       "       delta_hpsv_reward  \n",
       "count         200.000000  \n",
       "mean            0.009237  \n",
       "std             0.013002  \n",
       "min            -0.019000  \n",
       "25%             0.000300  \n",
       "50%             0.007950  \n",
       "75%             0.016275  \n",
       "max             0.051000  "
      ]
     },
     "execution_count": 51,
     "metadata": {},
     "output_type": "execute_result"
    }
   ],
   "source": [
    "delta_data = pd.DataFrame(data)\n",
    "delta_data.describe()\n"
   ]
  },
  {
   "cell_type": "code",
   "execution_count": 7,
   "id": "a1cb2c31",
   "metadata": {},
   "outputs": [],
   "source": [
    "from eval_datasets import create_dataset\n",
    "from omegaconf import OmegaConf, DictConfig\n",
    "import pandas as pd"
   ]
  },
  {
   "cell_type": "code",
   "execution_count": 16,
   "id": "6fcac791",
   "metadata": {},
   "outputs": [],
   "source": [
    "pd.read_csv(\"eval_datasets/open_img_pref/open_img_pref_all.csv\").groupby('category').sample(n=3).to_csv(\"eval_datasets/open_img_pref/open_img_pref_sampled_36.csv\", index=False)"
   ]
  },
  {
   "cell_type": "code",
   "execution_count": 4,
   "id": "1e19d087",
   "metadata": {},
   "outputs": [],
   "source": [
    "cfg = DictConfig({\"name\": \"open_image_preferences\"})\n",
    "dataset = create_dataset(cfg)"
   ]
  },
  {
   "cell_type": "code",
   "execution_count": null,
   "id": "1416072e",
   "metadata": {},
   "outputs": [],
   "source": []
  }
 ],
 "metadata": {
  "kernelspec": {
   "display_name": "diff-traf",
   "language": "python",
   "name": "python3"
  },
  "language_info": {
   "codemirror_mode": {
    "name": "ipython",
    "version": 3
   },
   "file_extension": ".py",
   "mimetype": "text/x-python",
   "name": "python",
   "nbconvert_exporter": "python",
   "pygments_lexer": "ipython3",
   "version": "3.12.8"
  }
 },
 "nbformat": 4,
 "nbformat_minor": 5
}
