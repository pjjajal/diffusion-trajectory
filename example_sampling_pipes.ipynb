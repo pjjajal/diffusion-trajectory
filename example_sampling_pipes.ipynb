{
 "cells": [
  {
   "cell_type": "code",
   "execution_count": 1,
   "metadata": {},
   "outputs": [],
   "source": [
    "import torch\n",
    "import numpy as np\n",
    "from einops import einsum\n",
    "\n",
    "from diffusers import DiffusionPipeline\n",
    "from evotorch import Problem\n",
    "from evotorch.decorators import vectorized\n",
    "from evotorch.algorithms import CMAES, SNES, CEM\n",
    "from evotorch.logging import StdOutLogger, PandasLogger\n",
    "from noise_injection_pipelines.sampling_pipelines import SDXLSamplingPipeline\n",
    "from fitness.fitness_fn import (\n",
    "    brightness,\n",
    "    clip_fitness_fn,\n",
    "    compose_fitness_fns,\n",
    "    relative_luminance,\n",
    "    Novelty,\n",
    "    pickscore_fitness_fn,\n",
    "    aesthetic_fitness_fn,\n",
    ")\n",
    "from evo.vectorized_problem import VectorizedProblem\n",
    "from diffusers.utils import pt_to_pil, numpy_to_pil\n",
    "import matplotlib.pyplot as plt\n",
    "\n",
    "from noise_injection_pipelines.noise_injection import rotational_transform"
   ]
  },
  {
   "cell_type": "code",
   "execution_count": null,
   "metadata": {},
   "outputs": [],
   "source": [
    "model_name = \"stabilityai/sdxl-turbo\"\n",
    "pipe = DiffusionPipeline.from_pretrained(\n",
    "    model_name, torch_dtype=torch.float16, use_safetensors=True\n",
    ").to(\"cuda\")\n",
    "pipe.enable_xformers_memory_efficient_attention()\n"
   ]
  },
  {
   "cell_type": "code",
   "execution_count": 9,
   "metadata": {},
   "outputs": [],
   "source": [
    "problem_split = 6\n",
    "num_inference_steps = 15\n",
    "noise_scale = 1.0\n",
    "sample_fn = SDXLSamplingPipeline(\n",
    "    pipe,\n",
    "    prompt=\"A beautiful landscape painting\",\n",
    "    num_inference_steps=num_inference_steps,\n",
    "    generator=torch.Generator(device=\"cuda\").manual_seed(0),\n",
    ")\n",
    "clip_fit = clip_fitness_fn(\n",
    "    \"openai/clip-vit-large-patch14\", [\"A beautiful landscape painting\"], dtype=pipe.dtype\n",
    ")\n",
    "fit = compose_fitness_fns([clip_fit], [1])"
   ]
  },
  {
   "cell_type": "code",
   "execution_count": null,
   "metadata": {},
   "outputs": [],
   "source": [
    "mean_scale = 0.01\n",
    "initial_bounds = (-1, 1)\n",
    "injection_steps = num_inference_steps\n",
    "sample_fn.inject_multiple_noise_scale = noise_scale\n",
    "\n",
    "fitness_fn, inner_fn, centroid, solution_length = rotational_transform(\n",
    "    sample_fn,\n",
    "    fit,\n",
    "    sample_fn.latents.shape,\n",
    "    device=pipe.device,\n",
    "    center=sample_fn.latents,\n",
    "    dtype=pipe.dtype,\n",
    ")\n",
    "\n",
    "problem = VectorizedProblem(\n",
    "    \"max\",\n",
    "    fitness_fn,\n",
    "    solution_length=solution_length,\n",
    "    initial_bounds=initial_bounds,\n",
    "    dtype=np.dtype(\"float32\"),\n",
    "    splits=problem_split,\n",
    "    initialization=None,\n",
    ")\n",
    "searcher = CMAES(problem, stdev_init=1, separable=True, csa_squared=True)\n",
    "# searcher = SNES(problem, stdev_init=10)\n",
    "logger = StdOutLogger(searcher)\n",
    "pandas_logger = PandasLogger(searcher)\n",
    "print(f\"pop. size: {searcher.popsize}\")"
   ]
  },
  {
   "cell_type": "code",
   "execution_count": null,
   "metadata": {},
   "outputs": [],
   "source": [
    "a = sample_fn()\n",
    "plt.imshow(numpy_to_pil(a)[0])\n",
    "plt.show()\n",
    "with torch.no_grad():\n",
    "    for step in range(200):\n",
    "        searcher.step()\n",
    "        best_idx = searcher.population.argbest()\n",
    "        x = searcher.population[best_idx].values\n",
    "\n",
    "        a = inner_fn(x)\n",
    "        plt.imshow(numpy_to_pil(a)[0])\n",
    "        plt.show()"
   ]
  },
  {
   "cell_type": "code",
   "execution_count": null,
   "metadata": {},
   "outputs": [],
   "source": []
  },
  {
   "cell_type": "code",
   "execution_count": null,
   "metadata": {},
   "outputs": [],
   "source": []
  }
 ],
 "metadata": {
  "kernelspec": {
   "display_name": "diff-traf",
   "language": "python",
   "name": "python3"
  },
  "language_info": {
   "codemirror_mode": {
    "name": "ipython",
    "version": 3
   },
   "file_extension": ".py",
   "mimetype": "text/x-python",
   "name": "python",
   "nbconvert_exporter": "python",
   "pygments_lexer": "ipython3",
   "version": "3.12.8"
  }
 },
 "nbformat": 4,
 "nbformat_minor": 2
}
