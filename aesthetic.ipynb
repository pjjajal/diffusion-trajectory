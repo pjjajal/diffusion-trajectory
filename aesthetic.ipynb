{
 "cells": [
  {
   "cell_type": "code",
   "execution_count": 1,
   "metadata": {},
   "outputs": [],
   "source": [
    "### See original: https://github.com/christophschuhmann/improved-aesthetic-predictor/blob/main/simple_inference.py\n",
    "from PIL import Image\n",
    "from warnings import filterwarnings\n",
    "import numpy as np\n",
    "import torch\n",
    "import torch.nn.functional as F\n",
    "import pytorch_lightning as pl\n",
    "import torch.nn as nn\n",
    "from transformers import CLIPProcessor, CLIPModel, AutoProcessor, AutoModel\n",
    "from PIL import Image"
   ]
  },
  {
   "cell_type": "code",
   "execution_count": 2,
   "metadata": {},
   "outputs": [],
   "source": [
    "class MLP(pl.LightningModule):\n",
    "    def __init__(self, input_size, xcol='emb', ycol='avg_rating'):\n",
    "        super().__init__()\n",
    "        self.input_size = input_size\n",
    "        self.xcol = xcol\n",
    "        self.ycol = ycol\n",
    "        self.layers = nn.Sequential(\n",
    "            nn.Linear(self.input_size, 1024),\n",
    "            nn.Dropout(0.2),\n",
    "            nn.Linear(1024, 128),\n",
    "            nn.Dropout(0.2),\n",
    "            nn.Linear(128, 64),\n",
    "            nn.Dropout(0.1),\n",
    "            nn.Linear(64, 16),\n",
    "            nn.Linear(16, 1)\n",
    "        )\n",
    "\n",
    "    def forward(self, x):\n",
    "        return self.layers(x)\n",
    "\n",
    "    def training_step(self, batch, batch_idx):\n",
    "            x = batch[self.xcol]\n",
    "            y = batch[self.ycol].reshape(-1, 1)\n",
    "            x_hat = self.layers(x)\n",
    "            loss = F.mse_loss(x_hat, y)\n",
    "            return loss\n",
    "    \n",
    "    def validation_step(self, batch, batch_idx):\n",
    "        x = batch[self.xcol]\n",
    "        y = batch[self.ycol].reshape(-1, 1)\n",
    "        x_hat = self.layers(x)\n",
    "        loss = F.mse_loss(x_hat, y)\n",
    "        return loss\n",
    "\n",
    "    def configure_optimizers(self):\n",
    "        optimizer = torch.optim.Adam(self.parameters(), lr=1e-3)\n",
    "        return optimizer\n",
    "\n",
    "def normalized(a, axis=-1, order=2):\n",
    "    ### Original, for numpy.ndarray input I think?\n",
    "    # l2 = np.atleast_1d(np.linalg.norm(a, order, axis))\n",
    "    # l2[l2 == 0] = 1\n",
    "    # return a / np.expand_dims(l2, axis)\n",
    "    \n",
    "    ### For torch.Tensor input (written by neliopou)\n",
    "    l2 = torch.norm(a, p=order, dim=axis, keepdim=True)\n",
    "    l2[l2 == 0] = 1\n",
    "    return a / l2\n"
   ]
  },
  {
   "cell_type": "code",
   "execution_count": null,
   "metadata": {},
   "outputs": [],
   "source": [
    "class AestheticMLP(nn.Module):\n",
    "    def __init__(self, input_size, xcol='emb', ycol='avg_rating'):\n",
    "        super().__init__()\n",
    "        self.input_size = input_size\n",
    "        self.xcol = xcol\n",
    "        self.ycol = ycol\n",
    "        self.layers = nn.Sequential(\n",
    "            nn.Linear(self.input_size, 1024),\n",
    "            nn.Dropout(0.2),\n",
    "            nn.Linear(1024, 128),\n",
    "            nn.Dropout(0.2),\n",
    "            nn.Linear(128, 64),\n",
    "            nn.Dropout(0.1),\n",
    "            nn.Linear(64, 16),\n",
    "            nn.Linear(16, 1)\n",
    "        )\n",
    "\n",
    "    def forward(self, x):\n",
    "        return self.layers(x)"
   ]
  },
  {
   "cell_type": "code",
   "execution_count": 3,
   "metadata": {},
   "outputs": [
    {
     "name": "stderr",
     "output_type": "stream",
     "text": [
      "C:\\Users\\Nick J. Eliopoulos\\AppData\\Local\\Temp\\ipykernel_33844\\3782863335.py:11: FutureWarning: You are using `torch.load` with `weights_only=False` (the current default value), which uses the default pickle module implicitly. It is possible to construct malicious pickle data which will execute arbitrary code during unpickling (See https://github.com/pytorch/pytorch/blob/main/SECURITY.md#untrusted-models for more details). In a future release, the default value for `weights_only` will be flipped to `True`. This limits the functions that could be executed during unpickling. Arbitrary objects will no longer be allowed to be loaded via this mode unless they are explicitly allowlisted by the user via `torch.serialization.add_safe_globals`. We recommend you start setting `weights_only=True` for any use case where you don't have full control of the loaded file. Please open an issue on GitHub for any issues related to this experimental feature.\n",
      "  aesthetic_model.load_state_dict( torch.load(\"sac+logos+ava1-l14-linearMSE.pth\") )\n"
     ]
    }
   ],
   "source": [
    "### Params\n",
    "device = \"cuda\" if torch.cuda.is_available() else \"cpu\"\n",
    "\n",
    "### Load CLIP ViT-L/14 Model\n",
    "processor = AutoProcessor.from_pretrained(\"openai/clip-vit-large-patch14-336\")\n",
    "clip_model = AutoModel.from_pretrained(\"openai/clip-vit-large-patch14-336\")\n",
    "clip_model.to(device).eval()\n",
    "\n",
    "### Load Aesthetic Score predictor\n",
    "aesthetic_model = MLP(768)\n",
    "aesthetic_model.load_state_dict( torch.load(\"sac+logos+ava1-l14-linearMSE.pth\") )\n",
    "aesthetic_model.to(device).eval()\n",
    "\n",
    "images = [Image.open(\"diffusion_dog_iter0.png\")]\n",
    "\n",
    "image_inputs = processor(\n",
    "   images=images,\n",
    "   padding=True,\n",
    "   truncation=True,\n",
    "   max_length=16,\n",
    "   return_tensors=\"pt\",\n",
    ").to(device)\n"
   ]
  },
  {
   "cell_type": "code",
   "execution_count": 4,
   "metadata": {},
   "outputs": [
    {
     "name": "stdout",
     "output_type": "stream",
     "text": [
      "tensor([[4.9055]], device='cuda:0')\n"
     ]
    }
   ],
   "source": [
    "\n",
    "with torch.no_grad():\n",
    "\timage_embs = clip_model.get_image_features(**image_inputs)\n",
    "\timage_embs = normalized(image_embs)\n",
    "\tprediction = aesthetic_model(image_embs).to(device)\n",
    "\n",
    "print( prediction )"
   ]
  }
 ],
 "metadata": {
  "kernelspec": {
   "display_name": "difftraj",
   "language": "python",
   "name": "python3"
  },
  "language_info": {
   "codemirror_mode": {
    "name": "ipython",
    "version": 3
   },
   "file_extension": ".py",
   "mimetype": "text/x-python",
   "name": "python",
   "nbconvert_exporter": "python",
   "pygments_lexer": "ipython3",
   "version": "3.12.8"
  }
 },
 "nbformat": 4,
 "nbformat_minor": 2
}
